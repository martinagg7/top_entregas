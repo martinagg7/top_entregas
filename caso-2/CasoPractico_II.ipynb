{
  "nbformat": 4,
  "nbformat_minor": 0,
  "metadata": {
    "colab": {
      "provenance": [],
      "toc_visible": true
    },
    "kernelspec": {
      "name": "python3",
      "display_name": "Python 3"
    },
    "language_info": {
      "name": "python"
    }
  },
  "cells": [
    {
      "cell_type": "markdown",
      "source": [],
      "metadata": {
        "id": "UOXRzNlq1xPl"
      }
    },
    {
      "cell_type": "markdown",
      "source": [
        "# Comparación del Algoritmo Propuesto Clase VS Modificado"
      ],
      "metadata": {
        "id": "FbrFsYftoGFi"
      }
    },
    {
      "cell_type": "markdown",
      "source": [
        "Al estudiar el algoritmo de programación dinámica presentado en clase, me percaté de que  aunque el algoritmo seleccionaba una combinación de objetos que consideraba optima según la capacidad disponible en la nave espacial y las utilidades de los productos, **no verificaba si queda espacio sobrante para añadir más objetos y aumentar la utilidad total**.\n",
        "\n",
        "Este comportamiento puede llevar a soluciones subóptimas, ya que el algoritmo **se detiene una vez que llena la tabla `dp` sin explorar si aún puede añadir más objetos para aprovechar mejor la capacidad total de la mochila**.\n"
      ],
      "metadata": {
        "id": "3ekifyL0_sam"
      }
    },
    {
      "cell_type": "markdown",
      "source": [
        "## Ejemplo Ilustrativo"
      ],
      "metadata": {
        "id": "BLYY52pLA7TQ"
      }
    },
    {
      "cell_type": "markdown",
      "source": [
        "Para poder explicar de forma más clara lo que acabo de comentar. He considerado un  ejemplo más reducido, con menos variedad de objetos para transportar en la nave y una capacidad de carga más limitada $ W_{\\text{carga}} = 100 $. En este caso, seleccioné únicamente los 5 primeros productos de la lista original:\n",
        "\n",
        "**Datos del Problema**\n",
        "- Capacidad de la mochila: 100 kg.\n",
        "-Productos Disponibles:\n",
        "  1. Producto 1: Peso = 12 kg, Utilidad = 4, Máx. Cantidad = 3.\n",
        "  2. Producto 2: Peso = 7 kg, Utilidad = 2, Máx. Cantidad = 5.\n",
        "  3. Producto 3: Peso = 11 kg, Utilidad = 3, Máx. Cantidad = 2.\n",
        "  4. Producto 4: Peso = 8 kg, Utilidad = 5, Máx. Cantidad = 4.\n",
        "  5. Producto 5: Peso = 20 kg, Utilidad = 7, Máx. Cantidad = 2.\n",
        "\n"
      ],
      "metadata": {
        "id": "sg8kHTpQA_Ug"
      }
    },
    {
      "cell_type": "markdown",
      "source": [
        "A continuacón se evalúan las soluciones óptimas optenidas con los dos algoritmos...."
      ],
      "metadata": {
        "id": "GxX-GNc1B4Wm"
      }
    },
    {
      "cell_type": "markdown",
      "source": [
        "## A-Propuesto Clase"
      ],
      "metadata": {
        "id": "l4lsPlD5-E9q"
      }
    },
    {
      "cell_type": "code",
      "source": [
        "# Lista de productos con sus características\n",
        "productos = [\n",
        "    {'id': 1, 'peso': 12, 'utilidad': 4, 'max_cantidad': 3},\n",
        "    {'id': 2, 'peso': 7, 'utilidad': 2, 'max_cantidad': 5},\n",
        "    {'id': 3, 'peso': 11, 'utilidad': 3, 'max_cantidad': 2},\n",
        "    {'id': 4, 'peso': 8, 'utilidad': 5, 'max_cantidad': 4},\n",
        "    {'id': 5, 'peso': 20, 'utilidad': 7, 'max_cantidad': 2},\n",
        "\n",
        "]\n",
        "\n",
        "# Pesos de los componentes\n",
        "W_transbordador = 1000  # kg\n",
        "W_combustible = 500     # kg\n",
        "\n",
        "# Capacidad máxima de peso\n",
        "capacidad_peso = 100 # kg\n",
        "\n",
        "# Representación binaria de las cantidades\n",
        "pesos = []\n",
        "utilidades = []\n",
        "indices_productos = []\n",
        "cantidades_subproductos = []  # Para almacenar las cantidades\n",
        "\n",
        "for producto in productos:\n",
        "    cantidad = producto['max_cantidad']\n",
        "    k = 1\n",
        "    while cantidad > 0:\n",
        "        num = min(k, cantidad)\n",
        "        pesos.append(producto['peso'] * num)\n",
        "        utilidades.append(producto['utilidad'] * num)\n",
        "        indices_productos.append(producto['id'])\n",
        "        cantidades_subproductos.append(num)  # Guardar la cantidad\n",
        "        cantidad -= num\n",
        "        k *= 2\n",
        "\n",
        "n = len(pesos)\n",
        "\n",
        "# Inicializar la programación dinámica\n",
        "dp = [0] * (capacidad_peso + 1)\n",
        "pre = [-1] * (capacidad_peso + 1)\n",
        "item = [-1] * (capacidad_peso + 1)\n",
        "\n",
        "# Programación Dinámica\n",
        "print(\"Iteración\\tUtilidad Total\\tPeso Total Utilizado\\tProductos Seleccionados\")\n",
        "for i in range(n):\n",
        "    peso = pesos[i]\n",
        "    utilidad = utilidades[i]\n",
        "    producto_id = indices_productos[i]\n",
        "    cantidad = cantidades_subproductos[i]\n",
        "    for w in range(capacidad_peso, peso - 1, -1):\n",
        "        if dp[w - peso] + utilidad > dp[w]:\n",
        "            dp[w] = dp[w - peso] + utilidad\n",
        "            pre[w] = w - peso\n",
        "            item[w] = i\n",
        "    # Después de actualizar dp, reconstruimos la solución actual\n",
        "    max_utilidad = max(dp)\n",
        "    peso_utilizado = dp.index(max_utilidad)\n",
        "    # Reconstruir la solución actual\n",
        "    w_temp = peso_utilizado\n",
        "    productos_seleccionados_iteracion = {}\n",
        "    while w_temp > 0 and item[w_temp] != -1:\n",
        "        idx = item[w_temp]\n",
        "        p_id = indices_productos[idx]\n",
        "        cantidad_utilizada = cantidades_subproductos[idx]\n",
        "        if p_id in productos_seleccionados_iteracion:\n",
        "            productos_seleccionados_iteracion[p_id] += cantidad_utilizada\n",
        "        else:\n",
        "            productos_seleccionados_iteracion[p_id] = cantidad_utilizada\n",
        "        w_temp = pre[w_temp]\n",
        "    # Ajustar cantidades a máximos\n",
        "    for pid in productos_seleccionados_iteracion:\n",
        "        max_cantidad = next(p['max_cantidad'] for p in productos if p['id'] == pid)\n",
        "        if productos_seleccionados_iteracion[pid] > max_cantidad:\n",
        "            productos_seleccionados_iteracion[pid] = max_cantidad\n",
        "    # Mostrar la información de la iteración\n",
        "    print(f\"{i+1}\\t\\t{max_utilidad}\\t\\t{peso_utilizado} kg\\t\\t{productos_seleccionados_iteracion}\")\n",
        "\n",
        "# Reconstruir la solución final\n",
        "max_utilidad = max(dp)\n",
        "peso_total_utilizado = dp.index(max_utilidad)\n",
        "w = peso_total_utilizado\n",
        "productos_seleccionados = {}\n",
        "\n",
        "while w > 0 and item[w] != -1:\n",
        "    idx = item[w]\n",
        "    producto_id = indices_productos[idx]\n",
        "    cantidad_utilizada = cantidades_subproductos[idx]\n",
        "    if producto_id in productos_seleccionados:\n",
        "        productos_seleccionados[producto_id] += cantidad_utilizada\n",
        "    else:\n",
        "        productos_seleccionados[producto_id] = cantidad_utilizada\n",
        "    w = pre[w]\n",
        "\n",
        "# Ajustar las cantidades para que no excedan las máximas permitidas\n",
        "for producto_id in productos_seleccionados:\n",
        "    max_cantidad = next(p['max_cantidad'] for p in productos if p['id'] == producto_id)\n",
        "    if productos_seleccionados[producto_id] > max_cantidad:\n",
        "        productos_seleccionados[producto_id] = max_cantidad\n",
        "\n",
        "# Calcular el peso total de los productos seleccionados\n",
        "peso_total = sum(productos_seleccionados[pid] * next(p['peso'] for p in productos if p['id'] == pid) for pid in productos_seleccionados)\n",
        "\n",
        "# Calcular la utilidad total\n",
        "utilidad_total = sum(productos_seleccionados[pid] * next(p['utilidad'] for p in productos if p['id'] == pid) for pid in productos_seleccionados)\n",
        "\n",
        "# Calcular W_total y ISR\n",
        "W_carga = peso_total\n",
        "W_total = W_transbordador + W_combustible + W_carga\n",
        "ISR_obtenido = W_total / W_carga if W_carga != 0 else float('inf')\n",
        "\n",
        "# Mostrar resultados finales\n",
        "print(\"\\nDistribución óptima de productos:\")\n",
        "for producto_id in sorted(productos_seleccionados):\n",
        "    cantidad = productos_seleccionados[producto_id]\n",
        "    producto = next(p for p in productos if p['id'] == producto_id)\n",
        "    peso_total_producto = producto['peso'] * cantidad\n",
        "    utilidad_total_producto = producto['utilidad'] * cantidad\n",
        "    print(f\"Producto {producto_id}: Cantidad = {cantidad}, Peso Total = {peso_total_producto} kg, Utilidad Total = {utilidad_total_producto}\")\n",
        "\n",
        "print(f\"\\nPeso total utilizado (W_carga): {peso_total} kg\")\n",
        "print(f\"Utilidad total: {utilidad_total}\")\n",
        "print(f\"Peso total del sistema (W_total): {W_total} kg\")\n",
        "print(f\"ISR obtenido (W_total / W_carga): {ISR_obtenido:.2f}\")"
      ],
      "metadata": {
        "colab": {
          "base_uri": "https://localhost:8080/"
        },
        "id": "M974rfr0-A87",
        "outputId": "7ea1d9cc-6e62-4a32-d5eb-b8786616c15a"
      },
      "execution_count": null,
      "outputs": [
        {
          "output_type": "stream",
          "name": "stdout",
          "text": [
            "Iteración\tUtilidad Total\tPeso Total Utilizado\tProductos Seleccionados\n",
            "1\t\t4\t\t12 kg\t\t{1: 1}\n",
            "2\t\t12\t\t36 kg\t\t{1: 3}\n",
            "3\t\t14\t\t43 kg\t\t{2: 1, 1: 3}\n",
            "4\t\t18\t\t57 kg\t\t{2: 3, 1: 3}\n",
            "5\t\t22\t\t71 kg\t\t{2: 5, 1: 3}\n",
            "6\t\t25\t\t82 kg\t\t{3: 1, 2: 5, 1: 3}\n",
            "7\t\t28\t\t93 kg\t\t{3: 2, 2: 5, 1: 3}\n",
            "8\t\t31\t\t94 kg\t\t{4: 4}\n",
            "9\t\t38\t\t99 kg\t\t{4: 4}\n",
            "10\t\t41\t\t100 kg\t\t{4: 4}\n",
            "11\t\t42\t\t99 kg\t\t{5: 2, 4: 4}\n",
            "12\t\t42\t\t96 kg\t\t{5: 2, 4: 4}\n",
            "\n",
            "Distribución óptima de productos:\n",
            "Producto 4: Cantidad = 4, Peso Total = 32 kg, Utilidad Total = 20\n",
            "Producto 5: Cantidad = 2, Peso Total = 40 kg, Utilidad Total = 14\n",
            "\n",
            "Peso total utilizado (W_carga): 72 kg\n",
            "Utilidad total: 34\n",
            "Peso total del sistema (W_total): 1572 kg\n",
            "ISR obtenido (W_total / W_carga): 21.83\n"
          ]
        }
      ]
    },
    {
      "cell_type": "markdown",
      "source": [
        "## A-Modificado"
      ],
      "metadata": {
        "id": "RmW93PiP-MHN"
      }
    },
    {
      "cell_type": "code",
      "source": [
        "# Lista de productos con sus características\n",
        "productos = [\n",
        "  {'id': 1, 'peso': 12, 'utilidad': 4, 'max_cantidad': 3},\n",
        "    {'id': 2, 'peso': 7, 'utilidad': 2, 'max_cantidad': 5},\n",
        "    {'id': 3, 'peso': 11, 'utilidad': 3, 'max_cantidad': 2},\n",
        "    {'id': 4, 'peso': 8, 'utilidad': 5, 'max_cantidad': 4},\n",
        "    {'id': 5, 'peso': 20, 'utilidad': 7, 'max_cantidad': 2},\n",
        "\n",
        "]\n",
        "# Capacidad máxima de peso\n",
        "capacidad_peso = 100  # kg\n",
        "\n",
        "# Representación binaria de las cantidades\n",
        "pesos = []\n",
        "utilidades = []\n",
        "indices_productos = []\n",
        "cantidades_subproductos = []\n",
        "\n",
        "for producto in productos:\n",
        "    cantidad = producto['max_cantidad']\n",
        "    k = 1\n",
        "    while cantidad > 0:\n",
        "        num = min(k, cantidad)\n",
        "        pesos.append(producto['peso'] * num)\n",
        "        utilidades.append(producto['utilidad'] * num)\n",
        "        indices_productos.append(producto['id'])\n",
        "        cantidades_subproductos.append(num)\n",
        "        cantidad -= num\n",
        "        k *= 2\n",
        "\n",
        "n = len(pesos)\n",
        "\n",
        "# Inicializar la programación dinámica\n",
        "dp = [0] * (capacidad_peso + 1)\n",
        "pre = [-1] * (capacidad_peso + 1)\n",
        "item = [-1] * (capacidad_peso + 1)\n",
        "\n",
        "# Programación dinámica con relleno del espacio restante\n",
        "print(\"Iteración\\tUtilidad Total\\tPeso Total Utilizado\\tProductos Seleccionados\")\n",
        "productos_seleccionados_iteracion = {}\n",
        "\n",
        "for i in range(n):\n",
        "    peso = pesos[i]\n",
        "    utilidad = utilidades[i]\n",
        "    producto_id = indices_productos[i]\n",
        "    cantidad = cantidades_subproductos[i]\n",
        "\n",
        "    for w in range(capacidad_peso, peso - 1, -1):\n",
        "        if dp[w - peso] + utilidad > dp[w]:\n",
        "            dp[w] = dp[w - peso] + utilidad\n",
        "            pre[w] = w - peso\n",
        "            item[w] = i\n",
        "\n",
        "    # Después de actualizar `dp`, reconstruir la solución actual\n",
        "    max_utilidad = max(dp)\n",
        "    peso_utilizado = dp.index(max_utilidad)\n",
        "    w_temp = peso_utilizado\n",
        "    productos_seleccionados_iteracion.clear()\n",
        "\n",
        "    while w_temp > 0 and item[w_temp] != -1:\n",
        "        idx = item[w_temp]\n",
        "        p_id = indices_productos[idx]\n",
        "        cantidad_utilizada = cantidades_subproductos[idx]\n",
        "        if p_id in productos_seleccionados_iteracion:\n",
        "            productos_seleccionados_iteracion[p_id] += cantidad_utilizada\n",
        "        else:\n",
        "            productos_seleccionados_iteracion[p_id] = cantidad_utilizada\n",
        "        w_temp = pre[w_temp]\n",
        "\n",
        "    # Ajustar cantidades a máximos\n",
        "    for pid in productos_seleccionados_iteracion:\n",
        "        max_cantidad = next(p['max_cantidad'] for p in productos if p['id'] == pid)\n",
        "        if productos_seleccionados_iteracion[pid] > max_cantidad:\n",
        "            productos_seleccionados_iteracion[pid] = max_cantidad\n",
        "\n",
        "    #PASO AÑADIDO : llenar el espacio restante si aún quedasen objetos\n",
        "    peso_total_actual = sum(\n",
        "        productos_seleccionados_iteracion.get(pid, 0) * next(p['peso'] for p in productos if p['id'] == pid)\n",
        "        for pid in productos_seleccionados_iteracion\n",
        "    )\n",
        "\n",
        "    for producto in productos:\n",
        "        while (\n",
        "            peso_total_actual + producto['peso'] <= capacidad_peso\n",
        "            and productos_seleccionados_iteracion.get(producto['id'], 0) < producto['max_cantidad']\n",
        "        ):\n",
        "            if producto['id'] in productos_seleccionados_iteracion:\n",
        "                productos_seleccionados_iteracion[producto['id']] += 1\n",
        "            else:\n",
        "                productos_seleccionados_iteracion[producto['id']] = 1\n",
        "            peso_total_actual += producto['peso']\n",
        "\n",
        "    # Mostrar la información de la iteración\n",
        "    print(f\"{i+1}\\t\\t{max_utilidad}\\t\\t{peso_utilizado} kg\\t\\t{productos_seleccionados_iteracion}\")\n",
        "\n",
        "# Reconstrucción de la solución final utilizando la última iteración\n",
        "productos_seleccionados = productos_seleccionados_iteracion.copy()\n",
        "\n",
        "# Calcular la utilidad total y peso total\n",
        "peso_total = sum(\n",
        "    productos_seleccionados[pid] * next(p['peso'] for p in productos if p['id'] == pid)\n",
        "    for pid in productos_seleccionados\n",
        ")\n",
        "utilidad_total = sum(\n",
        "    productos_seleccionados[pid] * next(p['utilidad'] for p in productos if p['id'] == pid)\n",
        "    for pid in productos_seleccionados\n",
        ")\n",
        "\n",
        "# Mostrar resultados finales\n",
        "print(\"\\nDistribución óptima de productos:\")\n",
        "for producto_id in sorted(productos_seleccionados):\n",
        "    cantidad = productos_seleccionados[producto_id]\n",
        "    producto = next(p for p in productos if p['id'] == producto_id)\n",
        "    peso_total_producto = producto['peso'] * cantidad\n",
        "    utilidad_total_producto = producto['utilidad'] * cantidad\n",
        "    print(f\"Producto {producto_id}: Cantidad = {cantidad}, Peso Total = {peso_total_producto} kg, Utilidad Total = {utilidad_total_producto}\")\n",
        "\n",
        "print(f\"\\nPeso total utilizado: {peso_total} kg\")\n",
        "print(f\"Utilidad total: {utilidad_total}\")"
      ],
      "metadata": {
        "colab": {
          "base_uri": "https://localhost:8080/"
        },
        "id": "CEYqFB_46oIo",
        "outputId": "2d94be3b-071c-4d7a-c515-6b60e298e8fe"
      },
      "execution_count": null,
      "outputs": [
        {
          "output_type": "stream",
          "name": "stdout",
          "text": [
            "Iteración\tUtilidad Total\tPeso Total Utilizado\tProductos Seleccionados\n",
            "1\t\t4\t\t12 kg\t\t{1: 3, 2: 5, 3: 2}\n",
            "2\t\t12\t\t36 kg\t\t{1: 3, 2: 5, 3: 2}\n",
            "3\t\t14\t\t43 kg\t\t{2: 5, 1: 3, 3: 2}\n",
            "4\t\t18\t\t57 kg\t\t{2: 5, 1: 3, 3: 2}\n",
            "5\t\t22\t\t71 kg\t\t{2: 5, 1: 3, 3: 2}\n",
            "6\t\t25\t\t82 kg\t\t{3: 2, 2: 5, 1: 3}\n",
            "7\t\t28\t\t93 kg\t\t{3: 2, 2: 5, 1: 3}\n",
            "8\t\t31\t\t94 kg\t\t{4: 4, 1: 3, 2: 4}\n",
            "9\t\t38\t\t99 kg\t\t{4: 4, 1: 3, 2: 4}\n",
            "10\t\t41\t\t100 kg\t\t{4: 4, 1: 3, 2: 4}\n",
            "11\t\t42\t\t99 kg\t\t{5: 2, 4: 4, 1: 2}\n",
            "12\t\t42\t\t96 kg\t\t{5: 2, 4: 4, 1: 2}\n",
            "\n",
            "Distribución óptima de productos:\n",
            "Producto 1: Cantidad = 2, Peso Total = 24 kg, Utilidad Total = 8\n",
            "Producto 4: Cantidad = 4, Peso Total = 32 kg, Utilidad Total = 20\n",
            "Producto 5: Cantidad = 2, Peso Total = 40 kg, Utilidad Total = 14\n",
            "\n",
            "Peso total utilizado: 96 kg\n",
            "Utilidad total: 42\n"
          ]
        }
      ]
    },
    {
      "cell_type": "markdown",
      "source": [
        "## Comparación de Resultados"
      ],
      "metadata": {
        "id": "6sUyJY2ICrY0"
      }
    },
    {
      "cell_type": "markdown",
      "source": [
        "A continuación, he recogido en una tabla comparativa los resultados obtenidos con el algoritmo propuesto en clase y los resultados con el algoritmo modificado .Este añade un paso adicional para rellenar el espacio sobrante en la mochila con los objetos aún no se han utilizado pero sin exceder la capidad total de carga.\n",
        "\n",
        "\n",
        "\n",
        "\n",
        "\n"
      ],
      "metadata": {
        "id": "VuUC756cCn7D"
      }
    },
    {
      "cell_type": "markdown",
      "source": [
        "#### Tabla comparativa Resultados\n"
      ],
      "metadata": {
        "id": "79WrfeJ8DH0G"
      }
    },
    {
      "cell_type": "markdown",
      "source": [
        "\n",
        "\n",
        "| **Criterio**                  | **Algoritmo de Clase**                                | **Algoritmo Modificado**                        |\n",
        "|-------------------------------|-----------------------------------------------------|------------------------------------------------|\n",
        "| **Productos Seleccionados**   | Producto 4: 4 unidades                              | Producto 4: 4 unidades                         |\n",
        "|                               | Producto 5: 2 unidades                              | Producto 5: 2 unidades                         |\n",
        "|                               | *Espacio sobrante no utilizado*                    | Producto 1: 2 unidades (relleno)               |\n",
        "| **Peso Total Utilizado (kg)** | 72 kg                                              | 96 kg                                          |\n",
        "| **Utilidad Total**            | 34                                                 | 42                                             |\n",
        "| **Espacio Sobrante (kg)**     | 28                                                 | 4                                              |\n",
        "\n"
      ],
      "metadata": {
        "id": "C2wAXx3iDBdC"
      }
    },
    {
      "cell_type": "markdown",
      "source": [
        "### Análisis\n",
        "\n",
        "1. **Algoritmo de Clase**:\n",
        "   - Solo considera las combinaciones generadas en la tabla `dp` y selecciona una solución que no maximiza el uso de la capacidad de la mochila.\n",
        "   - Deja un un vacion en la capidad de carga de la nave de 28kg  sin intentar rellenarlo, lo que lleva a una menor utilidad total.\n",
        "\n",
        "2. **Algoritmo Modificado**:\n",
        "   - Añade un paso para verificar el espacio sobrante tras seleccionar la solución inicial.\n",
        "   - Busca rellenar este espacio con productos adicionales respetando las restricciones, logrando una mayor utilidad total y un mejor aprovechamiento de la capacidad de la mochila."
      ],
      "metadata": {
        "id": "mTgFETQbDbg_"
      }
    },
    {
      "cell_type": "markdown",
      "source": [
        "# Optimización de la utilidad en la Nave Espacial"
      ],
      "metadata": {
        "id": "XDGphlHUCmYf"
      }
    },
    {
      "cell_type": "markdown",
      "source": [
        "\n",
        "Este algoritmo utiliza **programación dinámica** para maximizar la utilidad total de los productos seleccionados dentro de una capacidad de peso dada. Además, incorpora un paso adicional para rellenar el espacio sobrante, asegurando que la capacidad de la mochila se utiliza al máximo posible.\n",
        "\n",
        "\n",
        "\n",
        "## ¿Cómo Funciona el Algoritmo?\n",
        "\n",
        "### 1. **Representación Binaria de las Cantidades**\n",
        "Cada producto tiene un peso, una utilidad y una cantidad máxima permitida. Para manejar estas restricciones, el algoritmo utiliza una representación binaria para descomponer las cantidades máximas en subproductos. Por ejemplo:\n",
        "- Un producto con una cantidad máxima de 5 se descompone como: $(1, 2, 2)$ ,es decir, $1+2+2=5$).\n",
        "- Esto permite manejar cada subproducto como un objeto independiente.\n",
        "\n",
        "Los subproductos se almacenan en listas:\n",
        "- `pesos`: contiene el peso de cada subproducto.\n",
        "- `utilidades`: contiene la utilidad de cada subproducto.\n",
        "- `indices_productos`: almacena el ID del producto original asociado a cada subproducto.\n",
        "- `cantidades_subproductos`: almacena la cantidad del subproducto representado.\n",
        "\n",
        "\n",
        "\n",
        "### 2. **Programación Dinámica**\n",
        "La programación dinámica se utiliza para construir una tabla `dp`, donde:\n",
        "- `dp[w]` representa la utilidad máxima alcanzable con un peso total \\(w\\).\n",
        "- `pre[w]` guarda el estado anterior de la tabla para reconstruir la solución.\n",
        "- `item[w]` guarda el índice del subproducto que contribuye a la utilidad máxima en \\(w\\).\n",
        "\n",
        "#### Proceso:\n",
        "1. Se itera sobre cada subproducto.\n",
        "2. Para cada capacidad posible w  desde la máxima 500  hasta el peso del subproducto, se calcula:\n",
        "   $$\n",
        "   dp[w] = \\max(dp[w], dp[w - \\text{peso}] + \\text{utilidad})\n",
        "   $$\n",
        "3. Se actualizan las listas `pre` e `item` para reconstruir la solución.\n",
        "\n",
        "\n",
        "\n",
        "### 3. **Reconstrucción de la Solución**\n",
        "Después de completar la tabla `dp`, se reconstruye la solución seleccionando los subproductos que contribuyen a la utilidad máxima:\n",
        "1. Se parte del peso correspondiente a la máxima utilidad en `dp`.\n",
        "2. Se rastrean los subproductos seleccionados usando las listas `pre` e `item`.\n",
        "\n",
        "\n",
        "\n",
        "### 4. **Paso Adicional: Relleno del Espacio Sobrante**\n",
        "El algoritmo añade un paso adicional para aprovechar el espacio sobrante en la mochila:\n",
        "1. Calcula el peso total actual de los productos seleccionados.\n",
        "2. Itera sobre los productos disponibles y verifica si alguno puede ser añadido sin superar la capacidad total.\n",
        "3. Se añaden productos hasta que se llena el espacio o se alcanzan las restricciones máximas de cantidad.\n",
        "\n",
        "\n",
        "### 5. **Resultados Finales**\n",
        "Se calculan:\n",
        "- **Peso Total Utilizado**: suma de los pesos de los productos seleccionados.\n",
        "- **Utilidad Total**: suma de las utilidades de los productos seleccionados.\n",
        "\n"
      ],
      "metadata": {
        "id": "3f18n3HXEgCZ"
      }
    },
    {
      "cell_type": "markdown",
      "source": [
        "## Optimización Por Utilidad"
      ],
      "metadata": {
        "id": "rjPOEEkWLKT0"
      }
    },
    {
      "cell_type": "code",
      "source": [
        "# Lista de productos con sus características\n",
        "productos = [\n",
        "    {'id': 1, 'peso': 12, 'utilidad': 4, 'max_cantidad': 3},\n",
        "    {'id': 2, 'peso': 7, 'utilidad': 2, 'max_cantidad': 5},\n",
        "    {'id': 3, 'peso': 11, 'utilidad': 3, 'max_cantidad': 2},\n",
        "    {'id': 4, 'peso': 8, 'utilidad': 5, 'max_cantidad': 4},\n",
        "    {'id': 5, 'peso': 20, 'utilidad': 7, 'max_cantidad': 2},\n",
        "    {'id': 6, 'peso': 14, 'utilidad': 6, 'max_cantidad': 1},\n",
        "    {'id': 7, 'peso': 6, 'utilidad': 2, 'max_cantidad': 6},\n",
        "    {'id': 8, 'peso': 13, 'utilidad': 5, 'max_cantidad': 2},\n",
        "    {'id': 9, 'peso': 15, 'utilidad': 8, 'max_cantidad': 1},\n",
        "    {'id': 10, 'peso': 10, 'utilidad': 4, 'max_cantidad': 3},\n",
        "    {'id': 11, 'peso': 10, 'utilidad': 1, 'max_cantidad': 7},\n",
        "    {'id': 12, 'peso': 16, 'utilidad': 9, 'max_cantidad': 1},\n",
        "    {'id': 13, 'peso': 8, 'utilidad': 3, 'max_cantidad': 4},\n",
        "    {'id': 14, 'peso': 7, 'utilidad': 2, 'max_cantidad': 5},\n",
        "    {'id': 15, 'peso': 9, 'utilidad': 5, 'max_cantidad': 3},\n",
        "    {'id': 16, 'peso': 6, 'utilidad': 2, 'max_cantidad': 6},\n",
        "    {'id': 17, 'peso': 12, 'utilidad': 6, 'max_cantidad': 2},\n",
        "    {'id': 18, 'peso': 11, 'utilidad': 5, 'max_cantidad': 2},\n",
        "    {'id': 19, 'peso': 14, 'utilidad': 7, 'max_cantidad': 1},\n",
        "    {'id': 20, 'peso': 10, 'utilidad': 4, 'max_cantidad': 3},\n",
        "]\n",
        "\n",
        "# Pesos de los componentes\n",
        "W_transbordador = 1000  # kg\n",
        "W_combustible = 500     # kg\n",
        "\n",
        "# Capacidad máxima de peso\n",
        "capacidad_peso = 500  # kg\n",
        "\n",
        "# Representación binaria de las cantidades\n",
        "pesos = []\n",
        "utilidades = []\n",
        "indices_productos = []\n",
        "cantidades_subproductos = []\n",
        "\n",
        "for producto in productos:\n",
        "    cantidad = producto['max_cantidad']\n",
        "    k = 1\n",
        "    while cantidad > 0:\n",
        "        num = min(k, cantidad)\n",
        "        pesos.append(producto['peso'] * num)\n",
        "        utilidades.append(producto['utilidad'] * num)\n",
        "        indices_productos.append(producto['id'])\n",
        "        cantidades_subproductos.append(num)\n",
        "        cantidad -= num\n",
        "        k *= 2\n",
        "\n",
        "n = len(pesos)\n",
        "\n",
        "# Inicializar la programación dinámica\n",
        "dp = [0] * (capacidad_peso + 1)\n",
        "pre = [-1] * (capacidad_peso + 1)\n",
        "item = [-1] * (capacidad_peso + 1)\n",
        "\n",
        "# Programación dinámica con relleno del espacio restante\n",
        "print(\"Iteración\\tUtilidad Total\\tPeso Total Utilizado\\tProductos Seleccionados\")\n",
        "productos_seleccionados_iteracion = {}\n",
        "\n",
        "for i in range(n):\n",
        "    peso = pesos[i]\n",
        "    utilidad = utilidades[i]\n",
        "    producto_id = indices_productos[i]\n",
        "    cantidad = cantidades_subproductos[i]\n",
        "\n",
        "    for w in range(capacidad_peso, peso - 1, -1):\n",
        "        if dp[w - peso] + utilidad > dp[w]:\n",
        "            dp[w] = dp[w - peso] + utilidad\n",
        "            pre[w] = w - peso\n",
        "            item[w] = i\n",
        "\n",
        "    # Después de actualizar `dp`, reconstruir la solución actual\n",
        "    max_utilidad = max(dp)\n",
        "    peso_utilizado = dp.index(max_utilidad)\n",
        "    w_temp = peso_utilizado\n",
        "    productos_seleccionados_iteracion.clear()\n",
        "\n",
        "    while w_temp > 0 and item[w_temp] != -1:\n",
        "        idx = item[w_temp]\n",
        "        p_id = indices_productos[idx]\n",
        "        cantidad_utilizada = cantidades_subproductos[idx]\n",
        "        if p_id in productos_seleccionados_iteracion:\n",
        "            productos_seleccionados_iteracion[p_id] += cantidad_utilizada\n",
        "        else:\n",
        "            productos_seleccionados_iteracion[p_id] = cantidad_utilizada\n",
        "        w_temp = pre[w_temp]\n",
        "\n",
        "    # Ajustar cantidades a máximos\n",
        "    for pid in productos_seleccionados_iteracion:\n",
        "        max_cantidad = next(p['max_cantidad'] for p in productos if p['id'] == pid)\n",
        "        if productos_seleccionados_iteracion[pid] > max_cantidad:\n",
        "            productos_seleccionados_iteracion[pid] = max_cantidad\n",
        "\n",
        "    # Paso adicional: llenar el espacio restante\n",
        "    peso_total_actual = sum(\n",
        "        productos_seleccionados_iteracion.get(pid, 0) * next(p['peso'] for p in productos if p['id'] == pid)\n",
        "        for pid in productos_seleccionados_iteracion\n",
        "    )\n",
        "\n",
        "    for producto in productos:\n",
        "        while (\n",
        "            peso_total_actual + producto['peso'] <= capacidad_peso\n",
        "            and productos_seleccionados_iteracion.get(producto['id'], 0) < producto['max_cantidad']\n",
        "        ):\n",
        "            if producto['id'] in productos_seleccionados_iteracion:\n",
        "                productos_seleccionados_iteracion[producto['id']] += 1\n",
        "            else:\n",
        "                productos_seleccionados_iteracion[producto['id']] = 1\n",
        "            peso_total_actual += producto['peso']\n",
        "\n",
        "    # Mostrar la información de la iteración\n",
        "    print(f\"{i+1}\\t\\t{max_utilidad}\\t\\t{peso_utilizado} kg\\t\\t{productos_seleccionados_iteracion}\")\n",
        "\n",
        "# Reconstrucción de la solución final utilizando la última iteración\n",
        "productos_seleccionados = productos_seleccionados_iteracion.copy()\n",
        "\n",
        "# Calcular la utilidad total y peso total\n",
        "peso_total = sum(\n",
        "    productos_seleccionados[pid] * next(p['peso'] for p in productos if p['id'] == pid)\n",
        "    for pid in productos_seleccionados\n",
        ")\n",
        "utilidad_total = sum(\n",
        "    productos_seleccionados[pid] * next(p['utilidad'] for p in productos if p['id'] == pid)\n",
        "    for pid in productos_seleccionados\n",
        ")\n",
        "\n",
        "# Calcular W_total y ISR\n",
        "W_carga = peso_total\n",
        "W_total = W_transbordador + W_combustible + W_carga\n",
        "ISR_obtenido = W_total / W_carga if W_carga != 0 else float('inf')\n",
        "\n",
        "# Mostrar resultados finales\n",
        "print(\"\\nDistribución óptima de productos:\")\n",
        "for producto_id in sorted(productos_seleccionados):\n",
        "    cantidad = productos_seleccionados[producto_id]\n",
        "    producto = next(p for p in productos if p['id'] == producto_id)\n",
        "    peso_total_producto = producto['peso'] * cantidad\n",
        "    utilidad_total_producto = producto['utilidad'] * cantidad\n",
        "    print(f\"Producto {producto_id}: Cantidad = {cantidad}, Peso Total = {peso_total_producto} kg, Utilidad Total = {utilidad_total_producto}\")\n",
        "\n",
        "print(f\"\\nPeso total utilizado (W_carga): {peso_total} kg\")\n",
        "print(f\"Utilidad total: {utilidad_total}\")\n",
        "print(f\"Peso total del sistema (W_total): {W_total} kg\")\n",
        "print(f\"ISR obtenido (W_total / W_carga): {ISR_obtenido:.2f}\")"
      ],
      "metadata": {
        "colab": {
          "base_uri": "https://localhost:8080/"
        },
        "id": "ri0ID5iJHpnm",
        "outputId": "35a909e3-033c-42e5-9a8c-729a24f07558"
      },
      "execution_count": null,
      "outputs": [
        {
          "output_type": "stream",
          "name": "stdout",
          "text": [
            "Iteración\tUtilidad Total\tPeso Total Utilizado\tProductos Seleccionados\n",
            "1\t\t4\t\t12 kg\t\t{1: 3, 2: 5, 3: 2, 4: 4, 5: 2, 6: 1, 7: 6, 8: 2, 9: 1, 10: 3, 11: 7, 12: 1, 13: 4, 14: 5, 15: 3, 16: 5}\n",
            "2\t\t12\t\t36 kg\t\t{1: 3, 2: 5, 3: 2, 4: 4, 5: 2, 6: 1, 7: 6, 8: 2, 9: 1, 10: 3, 11: 7, 12: 1, 13: 4, 14: 5, 15: 3, 16: 5}\n",
            "3\t\t14\t\t43 kg\t\t{2: 5, 1: 3, 3: 2, 4: 4, 5: 2, 6: 1, 7: 6, 8: 2, 9: 1, 10: 3, 11: 7, 12: 1, 13: 4, 14: 5, 15: 3, 16: 5}\n",
            "4\t\t18\t\t57 kg\t\t{2: 5, 1: 3, 3: 2, 4: 4, 5: 2, 6: 1, 7: 6, 8: 2, 9: 1, 10: 3, 11: 7, 12: 1, 13: 4, 14: 5, 15: 3, 16: 5}\n",
            "5\t\t22\t\t71 kg\t\t{2: 5, 1: 3, 3: 2, 4: 4, 5: 2, 6: 1, 7: 6, 8: 2, 9: 1, 10: 3, 11: 7, 12: 1, 13: 4, 14: 5, 15: 3, 16: 5}\n",
            "6\t\t25\t\t82 kg\t\t{3: 2, 2: 5, 1: 3, 4: 4, 5: 2, 6: 1, 7: 6, 8: 2, 9: 1, 10: 3, 11: 7, 12: 1, 13: 4, 14: 5, 15: 3, 16: 5}\n",
            "7\t\t28\t\t93 kg\t\t{3: 2, 2: 5, 1: 3, 4: 4, 5: 2, 6: 1, 7: 6, 8: 2, 9: 1, 10: 3, 11: 7, 12: 1, 13: 4, 14: 5, 15: 3, 16: 5}\n",
            "8\t\t33\t\t101 kg\t\t{4: 4, 1: 3, 2: 5, 3: 2, 5: 2, 6: 1, 7: 6, 8: 2, 9: 1, 10: 3, 11: 7, 12: 1, 13: 4, 14: 5, 15: 3, 16: 5}\n",
            "9\t\t43\t\t117 kg\t\t{4: 4, 1: 3, 2: 5, 3: 2, 5: 2, 6: 1, 7: 6, 8: 2, 9: 1, 10: 3, 11: 7, 12: 1, 13: 4, 14: 5, 15: 3, 16: 5}\n",
            "10\t\t48\t\t125 kg\t\t{4: 4, 1: 3, 2: 5, 3: 2, 5: 2, 6: 1, 7: 6, 8: 2, 9: 1, 10: 3, 11: 7, 12: 1, 13: 4, 14: 5, 15: 3, 16: 5}\n",
            "11\t\t55\t\t145 kg\t\t{5: 2, 4: 4, 1: 3, 2: 5, 3: 2, 6: 1, 7: 6, 8: 2, 9: 1, 10: 3, 11: 7, 12: 1, 13: 4, 14: 5, 15: 3, 16: 5}\n",
            "12\t\t62\t\t165 kg\t\t{5: 2, 4: 4, 1: 3, 2: 5, 3: 2, 6: 1, 7: 6, 8: 2, 9: 1, 10: 3, 11: 7, 12: 1, 13: 4, 14: 5, 15: 3, 16: 5}\n",
            "13\t\t68\t\t179 kg\t\t{6: 1, 4: 4, 2: 5, 1: 3, 3: 2, 5: 2, 7: 6, 8: 2, 9: 1, 10: 3, 11: 7, 12: 1, 13: 4, 14: 5, 15: 3, 16: 5}\n",
            "14\t\t70\t\t185 kg\t\t{7: 6, 6: 1, 4: 4, 2: 5, 1: 3, 3: 2, 5: 2, 8: 2, 9: 1, 10: 3, 11: 7, 12: 1, 13: 4, 14: 5, 15: 3, 16: 5}\n",
            "15\t\t74\t\t197 kg\t\t{7: 6, 6: 1, 4: 4, 2: 5, 1: 3, 3: 2, 5: 2, 8: 2, 9: 1, 10: 3, 11: 7, 12: 1, 13: 4, 14: 5, 15: 3, 16: 5}\n",
            "16\t\t80\t\t215 kg\t\t{7: 6, 6: 1, 4: 4, 2: 5, 1: 3, 3: 2, 5: 2, 8: 2, 9: 1, 10: 3, 11: 7, 12: 1, 13: 4, 14: 5, 15: 3, 16: 5}\n",
            "17\t\t85\t\t228 kg\t\t{8: 2, 7: 6, 6: 1, 4: 4, 1: 3, 2: 5, 3: 2, 5: 2, 9: 1, 10: 3, 11: 7, 12: 1, 13: 4, 14: 5, 15: 3, 16: 5}\n",
            "18\t\t90\t\t241 kg\t\t{8: 2, 6: 1, 4: 4, 1: 3, 2: 5, 3: 2, 5: 2, 7: 6, 9: 1, 10: 3, 11: 7, 12: 1, 13: 4, 14: 5, 15: 3, 16: 5}\n",
            "19\t\t98\t\t256 kg\t\t{9: 1, 6: 1, 4: 4, 1: 3, 2: 5, 3: 2, 5: 2, 7: 6, 8: 2, 10: 3, 11: 7, 12: 1, 13: 4, 14: 5, 15: 3, 16: 5}\n",
            "20\t\t102\t\t266 kg\t\t{10: 3, 9: 1, 4: 4, 1: 3, 2: 5, 3: 2, 5: 2, 6: 1, 7: 6, 8: 2, 11: 7, 12: 1, 13: 4, 14: 5, 15: 3, 16: 5}\n",
            "21\t\t110\t\t286 kg\t\t{10: 3, 9: 1, 6: 1, 4: 4, 1: 3, 2: 5, 3: 2, 5: 2, 7: 6, 8: 2, 11: 7, 12: 1, 13: 4, 14: 5, 15: 3, 16: 5}\n",
            "22\t\t111\t\t296 kg\t\t{11: 7, 10: 3, 9: 1, 6: 1, 4: 4, 1: 3, 2: 5, 3: 2, 5: 2, 7: 6, 8: 2, 12: 1, 13: 4, 14: 5, 15: 3, 16: 5}\n",
            "23\t\t113\t\t316 kg\t\t{11: 7, 10: 3, 9: 1, 6: 1, 4: 4, 1: 3, 2: 5, 3: 2, 5: 2, 7: 6, 8: 2, 12: 1, 13: 4, 14: 5, 15: 3, 16: 5}\n",
            "24\t\t117\t\t356 kg\t\t{11: 7, 10: 3, 9: 1, 6: 1, 4: 4, 1: 3, 2: 5, 3: 2, 5: 2, 7: 6, 8: 2, 12: 1, 13: 4, 14: 5, 15: 3, 16: 5}\n",
            "25\t\t126\t\t372 kg\t\t{12: 1, 4: 4, 1: 3, 2: 5, 3: 2, 5: 2, 6: 1, 7: 6, 8: 2, 9: 1, 10: 3, 11: 7, 13: 4, 14: 5, 15: 3, 16: 5}\n",
            "26\t\t129\t\t380 kg\t\t{13: 4, 12: 1, 9: 1, 8: 2, 4: 4, 1: 3, 2: 5, 3: 2, 5: 2, 6: 1, 7: 6, 10: 3, 11: 7, 14: 5, 15: 3, 16: 5}\n",
            "27\t\t135\t\t396 kg\t\t{13: 4, 12: 1, 9: 1, 8: 2, 4: 4, 1: 3, 2: 5, 3: 2, 5: 2, 6: 1, 7: 6, 10: 3, 11: 7, 14: 5, 15: 3, 16: 5}\n",
            "28\t\t138\t\t404 kg\t\t{13: 4, 12: 1, 9: 1, 8: 2, 4: 4, 1: 3, 2: 5, 3: 2, 5: 2, 6: 1, 7: 6, 10: 3, 11: 7, 14: 5, 15: 3, 16: 5}\n",
            "29\t\t140\t\t411 kg\t\t{14: 5, 13: 4, 12: 1, 6: 1, 4: 4, 1: 3, 2: 5, 3: 2, 5: 2, 7: 6, 8: 2, 9: 1, 10: 3, 11: 7, 15: 3, 16: 5}\n",
            "30\t\t144\t\t425 kg\t\t{14: 5, 13: 4, 12: 1, 4: 4, 1: 3, 2: 5, 3: 2, 5: 2, 6: 1, 7: 6, 8: 2, 9: 1, 10: 3, 11: 7, 15: 3, 16: 5}\n",
            "31\t\t148\t\t439 kg\t\t{14: 5, 13: 4, 12: 1, 4: 4, 1: 3, 2: 5, 3: 2, 5: 2, 6: 1, 7: 6, 8: 2, 9: 1, 10: 3, 11: 7, 15: 3, 16: 5}\n",
            "32\t\t153\t\t448 kg\t\t{15: 3, 12: 1, 7: 6, 4: 4, 1: 3, 2: 5, 3: 2, 5: 2, 6: 1, 8: 2, 9: 1, 10: 3, 11: 7, 13: 4, 14: 5, 16: 5}\n",
            "33\t\t163\t\t466 kg\t\t{15: 3, 12: 1, 7: 6, 4: 4, 1: 3, 2: 5, 3: 2, 5: 2, 6: 1, 8: 2, 9: 1, 10: 3, 11: 7, 13: 4, 14: 5, 16: 5}\n",
            "34\t\t165\t\t472 kg\t\t{16: 6, 15: 3, 12: 1, 7: 6, 4: 4, 1: 3, 2: 5, 3: 2, 5: 2, 6: 1, 8: 2, 9: 1, 10: 3, 11: 7, 13: 4, 14: 4}\n",
            "35\t\t169\t\t484 kg\t\t{16: 6, 15: 3, 12: 1, 7: 6, 4: 4, 1: 3, 2: 5, 3: 2, 5: 2, 6: 1, 8: 2, 9: 1, 10: 3, 11: 7, 13: 4, 14: 4}\n",
            "36\t\t174\t\t492 kg\t\t{16: 6, 15: 3, 12: 1, 4: 4, 1: 3, 2: 5, 3: 2, 5: 2, 6: 1, 7: 6, 8: 2, 9: 1, 10: 3, 11: 7, 13: 4, 14: 4}\n",
            "37\t\t179\t\t494 kg\t\t{17: 2, 15: 3, 4: 4, 1: 3, 2: 5, 3: 2, 5: 2, 6: 1, 7: 6, 8: 2, 9: 1, 10: 3, 11: 7, 12: 1, 13: 4, 14: 5, 16: 1}\n",
            "38\t\t184\t\t496 kg\t\t{17: 2, 15: 3, 12: 1, 4: 4, 1: 3, 2: 5, 3: 2, 5: 2, 6: 1, 7: 6, 8: 2, 9: 1, 10: 3, 11: 7, 13: 4, 14: 5, 16: 1}\n",
            "39\t\t188\t\t497 kg\t\t{18: 2, 17: 2, 15: 2, 12: 1, 4: 4, 1: 3, 2: 5, 3: 2, 5: 2, 6: 1, 7: 6, 8: 2, 9: 1, 10: 3, 11: 7, 13: 4, 14: 4}\n",
            "40\t\t192\t\t498 kg\t\t{18: 2, 17: 2, 15: 3, 12: 1, 4: 4, 1: 3, 2: 5, 3: 2, 5: 2, 6: 1, 7: 6, 8: 2, 9: 1, 10: 3, 11: 7, 13: 4, 14: 3}\n",
            "41\t\t197\t\t492 kg\t\t{19: 1, 17: 2, 15: 3, 12: 1, 9: 1, 4: 4, 1: 3, 2: 5, 3: 2, 5: 2, 6: 1, 7: 6, 8: 2, 10: 3, 11: 7, 13: 4, 14: 4}\n",
            "42\t\t199\t\t495 kg\t\t{20: 3, 19: 1, 18: 1, 17: 2, 15: 3, 12: 1, 4: 4, 1: 3, 2: 5, 3: 2, 5: 2, 6: 1, 7: 6, 8: 2, 9: 1, 10: 3, 11: 7, 13: 2, 16: 1}\n",
            "43\t\t203\t\t500 kg\t\t{20: 3, 19: 1, 18: 2, 17: 2, 15: 3, 12: 1, 9: 1, 4: 4, 1: 3, 2: 5, 3: 2, 5: 2, 6: 1, 7: 6, 8: 2, 10: 3, 11: 7, 13: 1}\n",
            "\n",
            "Distribución óptima de productos:\n",
            "Producto 1: Cantidad = 3, Peso Total = 36 kg, Utilidad Total = 12\n",
            "Producto 2: Cantidad = 5, Peso Total = 35 kg, Utilidad Total = 10\n",
            "Producto 3: Cantidad = 2, Peso Total = 22 kg, Utilidad Total = 6\n",
            "Producto 4: Cantidad = 4, Peso Total = 32 kg, Utilidad Total = 20\n",
            "Producto 5: Cantidad = 2, Peso Total = 40 kg, Utilidad Total = 14\n",
            "Producto 6: Cantidad = 1, Peso Total = 14 kg, Utilidad Total = 6\n",
            "Producto 7: Cantidad = 6, Peso Total = 36 kg, Utilidad Total = 12\n",
            "Producto 8: Cantidad = 2, Peso Total = 26 kg, Utilidad Total = 10\n",
            "Producto 9: Cantidad = 1, Peso Total = 15 kg, Utilidad Total = 8\n",
            "Producto 10: Cantidad = 3, Peso Total = 30 kg, Utilidad Total = 12\n",
            "Producto 11: Cantidad = 7, Peso Total = 70 kg, Utilidad Total = 7\n",
            "Producto 12: Cantidad = 1, Peso Total = 16 kg, Utilidad Total = 9\n",
            "Producto 13: Cantidad = 1, Peso Total = 8 kg, Utilidad Total = 3\n",
            "Producto 15: Cantidad = 3, Peso Total = 27 kg, Utilidad Total = 15\n",
            "Producto 17: Cantidad = 2, Peso Total = 24 kg, Utilidad Total = 12\n",
            "Producto 18: Cantidad = 2, Peso Total = 22 kg, Utilidad Total = 10\n",
            "Producto 19: Cantidad = 1, Peso Total = 14 kg, Utilidad Total = 7\n",
            "Producto 20: Cantidad = 3, Peso Total = 30 kg, Utilidad Total = 12\n",
            "\n",
            "Peso total utilizado (W_carga): 497 kg\n",
            "Utilidad total: 185\n",
            "Peso total del sistema (W_total): 1997 kg\n",
            "ISR obtenido (W_total / W_carga): 4.02\n"
          ]
        }
      ]
    },
    {
      "cell_type": "markdown",
      "source": [
        "### Resultados Optimización x Utilidad"
      ],
      "metadata": {
        "id": "5m-S4aO8IMGF"
      }
    },
    {
      "cell_type": "markdown",
      "source": [
        "| Producto | Cantidad | Peso Total (kg) | Utilidad Total |\n",
        "|----------|----------|-----------------|----------------|\n",
        "| 1        | 3        | 36              | 12             |\n",
        "| 2        | 5        | 35              | 10             |\n",
        "| 3        | 2        | 22              | 6              |\n",
        "| 4        | 4        | 32              | 20             |\n",
        "| 5        | 2        | 40              | 14             |\n",
        "| 6        | 1        | 14              | 6              |\n",
        "| 7        | 6        | 36              | 12             |\n",
        "| 8        | 2        | 26              | 10             |\n",
        "| 9        | 1        | 15              | 8              |\n",
        "| 10       | 3        | 30              | 12             |\n",
        "| 11       | 7        | 70              | 7              |\n",
        "| 12       | 1        | 16              | 9              |\n",
        "| 13       | 1        | 8               | 3              |\n",
        "| 15       | 3        | 27              | 15             |\n",
        "| 17       | 2        | 24              | 12             |\n",
        "| 18       | 2        | 22              | 10             |\n",
        "| 19       | 1        | 14              | 7              |\n",
        "| 20       | 3        | 30              | 12             |\n",
        "\n",
        "**Peso total utilizado:** 497 kg  \n",
        "**Utilidad total:** 185\n",
        "\n",
        "**Cantidad de objetos:** 49"
      ],
      "metadata": {
        "id": "WkJayIQHGtjH"
      }
    },
    {
      "cell_type": "markdown",
      "source": [
        "## Optimización x Cantidad de Objetos"
      ],
      "metadata": {
        "id": "nqcgJMLZLVNg"
      }
    },
    {
      "cell_type": "code",
      "source": [
        "# Lista de productos con sus características\n",
        "productos = [\n",
        "    {'id': 1, 'peso': 12, 'utilidad': 1, 'max_cantidad': 3},\n",
        "    {'id': 2, 'peso': 7, 'utilidad': 1, 'max_cantidad': 5},\n",
        "    {'id': 3, 'peso': 11, 'utilidad': 1, 'max_cantidad': 2},\n",
        "    {'id': 4, 'peso': 8, 'utilidad': 1, 'max_cantidad': 4},\n",
        "    {'id': 5, 'peso': 20, 'utilidad': 1, 'max_cantidad': 2},\n",
        "    {'id': 6, 'peso': 14, 'utilidad': 1, 'max_cantidad': 1},\n",
        "    {'id': 7, 'peso': 6, 'utilidad': 1, 'max_cantidad': 6},\n",
        "    {'id': 8, 'peso': 13, 'utilidad': 1, 'max_cantidad': 2},\n",
        "    {'id': 9, 'peso': 15, 'utilidad': 1, 'max_cantidad': 1},\n",
        "    {'id': 10, 'peso': 10, 'utilidad': 1, 'max_cantidad': 3},\n",
        "    {'id': 11, 'peso': 10, 'utilidad': 1, 'max_cantidad': 7},\n",
        "    {'id': 12, 'peso': 16, 'utilidad': 1, 'max_cantidad': 1},\n",
        "    {'id': 13, 'peso': 8, 'utilidad': 1, 'max_cantidad': 4},\n",
        "    {'id': 14, 'peso': 7, 'utilidad': 1, 'max_cantidad': 5},\n",
        "    {'id': 15, 'peso': 9, 'utilidad': 1, 'max_cantidad': 3},\n",
        "    {'id': 16, 'peso': 6, 'utilidad': 1, 'max_cantidad': 6},\n",
        "    {'id': 17, 'peso': 12, 'utilidad': 1, 'max_cantidad': 2},\n",
        "    {'id': 18, 'peso': 11, 'utilidad': 1, 'max_cantidad': 2},\n",
        "    {'id': 19, 'peso': 14, 'utilidad': 1, 'max_cantidad': 1},\n",
        "    {'id': 20, 'peso': 10, 'utilidad': 1, 'max_cantidad': 3},\n",
        "]\n",
        "\n",
        "\n",
        "# Pesos de los componentes\n",
        "W_transbordador = 1000  # kg\n",
        "W_combustible = 500     # kg\n",
        "\n",
        "# Capacidad máxima de peso\n",
        "capacidad_peso = 500  # kg\n",
        "\n",
        "# Representación binaria de las cantidades\n",
        "pesos = []\n",
        "utilidades = []\n",
        "indices_productos = []\n",
        "cantidades_subproductos = []\n",
        "\n",
        "for producto in productos:\n",
        "    cantidad = producto['max_cantidad']\n",
        "    k = 1\n",
        "    while cantidad > 0:\n",
        "        num = min(k, cantidad)\n",
        "        pesos.append(producto['peso'] * num)\n",
        "        utilidades.append(producto['utilidad'] * num)\n",
        "        indices_productos.append(producto['id'])\n",
        "        cantidades_subproductos.append(num)\n",
        "        cantidad -= num\n",
        "        k *= 2\n",
        "\n",
        "n = len(pesos)\n",
        "\n",
        "# Inicializar la programación dinámica\n",
        "dp = [0] * (capacidad_peso + 1)\n",
        "pre = [-1] * (capacidad_peso + 1)\n",
        "item = [-1] * (capacidad_peso + 1)\n",
        "\n",
        "# Programación dinámica con relleno del espacio restante\n",
        "print(\"Iteración\\tUtilidad Total\\tPeso Total Utilizado\\tProductos Seleccionados\")\n",
        "productos_seleccionados_iteracion = {}\n",
        "\n",
        "for i in range(n):\n",
        "    peso = pesos[i]\n",
        "    utilidad = utilidades[i]\n",
        "    producto_id = indices_productos[i]\n",
        "    cantidad = cantidades_subproductos[i]\n",
        "\n",
        "    for w in range(capacidad_peso, peso - 1, -1):\n",
        "        if dp[w - peso] + utilidad > dp[w]:\n",
        "            dp[w] = dp[w - peso] + utilidad\n",
        "            pre[w] = w - peso\n",
        "            item[w] = i\n",
        "\n",
        "    # Después de actualizar `dp`, reconstruir la solución actual\n",
        "    max_utilidad = max(dp)\n",
        "    peso_utilizado = dp.index(max_utilidad)\n",
        "    w_temp = peso_utilizado\n",
        "    productos_seleccionados_iteracion.clear()\n",
        "\n",
        "    while w_temp > 0 and item[w_temp] != -1:\n",
        "        idx = item[w_temp]\n",
        "        p_id = indices_productos[idx]\n",
        "        cantidad_utilizada = cantidades_subproductos[idx]\n",
        "        if p_id in productos_seleccionados_iteracion:\n",
        "            productos_seleccionados_iteracion[p_id] += cantidad_utilizada\n",
        "        else:\n",
        "            productos_seleccionados_iteracion[p_id] = cantidad_utilizada\n",
        "        w_temp = pre[w_temp]\n",
        "\n",
        "    # Ajustar cantidades a máximos\n",
        "    for pid in productos_seleccionados_iteracion:\n",
        "        max_cantidad = next(p['max_cantidad'] for p in productos if p['id'] == pid)\n",
        "        if productos_seleccionados_iteracion[pid] > max_cantidad:\n",
        "            productos_seleccionados_iteracion[pid] = max_cantidad\n",
        "\n",
        "    # Paso adicional: llenar el espacio restante\n",
        "    peso_total_actual = sum(\n",
        "        productos_seleccionados_iteracion.get(pid, 0) * next(p['peso'] for p in productos if p['id'] == pid)\n",
        "        for pid in productos_seleccionados_iteracion\n",
        "    )\n",
        "\n",
        "    for producto in productos:\n",
        "        while (\n",
        "            peso_total_actual + producto['peso'] <= capacidad_peso\n",
        "            and productos_seleccionados_iteracion.get(producto['id'], 0) < producto['max_cantidad']\n",
        "        ):\n",
        "            if producto['id'] in productos_seleccionados_iteracion:\n",
        "                productos_seleccionados_iteracion[producto['id']] += 1\n",
        "            else:\n",
        "                productos_seleccionados_iteracion[producto['id']] = 1\n",
        "            peso_total_actual += producto['peso']\n",
        "\n",
        "    # Mostrar la información de la iteración\n",
        "    print(f\"{i+1}\\t\\t{max_utilidad}\\t\\t{peso_utilizado} kg\\t\\t{productos_seleccionados_iteracion}\")\n",
        "\n",
        "# Reconstrucción de la solución final utilizando la última iteración\n",
        "productos_seleccionados = productos_seleccionados_iteracion.copy()\n",
        "\n",
        "# Calcular la utilidad total y peso total\n",
        "peso_total = sum(\n",
        "    productos_seleccionados[pid] * next(p['peso'] for p in productos if p['id'] == pid)\n",
        "    for pid in productos_seleccionados\n",
        ")\n",
        "utilidad_total = sum(\n",
        "    productos_seleccionados[pid] * next(p['utilidad'] for p in productos if p['id'] == pid)\n",
        "    for pid in productos_seleccionados\n",
        ")\n",
        "\n",
        "# Calcular W_total y ISR\n",
        "W_carga = peso_total\n",
        "W_total = W_transbordador + W_combustible + W_carga\n",
        "ISR_obtenido = W_total / W_carga if W_carga != 0 else float('inf')\n",
        "\n",
        "# Mostrar resultados finales\n",
        "print(\"\\nDistribución óptima de productos:\")\n",
        "for producto_id in sorted(productos_seleccionados):\n",
        "    cantidad = productos_seleccionados[producto_id]\n",
        "    producto = next(p for p in productos if p['id'] == producto_id)\n",
        "    peso_total_producto = producto['peso'] * cantidad\n",
        "    utilidad_total_producto = producto['utilidad'] * cantidad\n",
        "    print(f\"Producto {producto_id}: Cantidad = {cantidad}, Peso Total = {peso_total_producto} kg, Utilidad Total = {utilidad_total_producto}\")\n",
        "\n",
        "print(f\"\\nPeso total utilizado (W_carga): {peso_total} kg\")\n",
        "print(f\"Utilidad total: {utilidad_total}\")\n",
        "print(f\"Peso total del sistema (W_total): {W_total} kg\")\n",
        "print(f\"ISR obtenido (W_total / W_carga): {ISR_obtenido:.2f}\")"
      ],
      "metadata": {
        "colab": {
          "base_uri": "https://localhost:8080/"
        },
        "id": "PMNZCQugJvDY",
        "outputId": "49e6a77a-f28b-43e4-d3ff-38bbcf9a0cb7"
      },
      "execution_count": null,
      "outputs": [
        {
          "output_type": "stream",
          "name": "stdout",
          "text": [
            "Iteración\tUtilidad Total\tPeso Total Utilizado\tProductos Seleccionados\n",
            "1\t\t1\t\t12 kg\t\t{1: 3, 2: 5, 3: 2, 4: 4, 5: 2, 6: 1, 7: 6, 8: 2, 9: 1, 10: 3, 11: 7, 12: 1, 13: 4, 14: 5, 15: 3, 16: 5}\n",
            "2\t\t3\t\t36 kg\t\t{1: 3, 2: 5, 3: 2, 4: 4, 5: 2, 6: 1, 7: 6, 8: 2, 9: 1, 10: 3, 11: 7, 12: 1, 13: 4, 14: 5, 15: 3, 16: 5}\n",
            "3\t\t4\t\t43 kg\t\t{2: 5, 1: 3, 3: 2, 4: 4, 5: 2, 6: 1, 7: 6, 8: 2, 9: 1, 10: 3, 11: 7, 12: 1, 13: 4, 14: 5, 15: 3, 16: 5}\n",
            "4\t\t6\t\t57 kg\t\t{2: 5, 1: 3, 3: 2, 4: 4, 5: 2, 6: 1, 7: 6, 8: 2, 9: 1, 10: 3, 11: 7, 12: 1, 13: 4, 14: 5, 15: 3, 16: 5}\n",
            "5\t\t8\t\t71 kg\t\t{2: 5, 1: 3, 3: 2, 4: 4, 5: 2, 6: 1, 7: 6, 8: 2, 9: 1, 10: 3, 11: 7, 12: 1, 13: 4, 14: 5, 15: 3, 16: 5}\n",
            "6\t\t9\t\t82 kg\t\t{3: 2, 2: 5, 1: 3, 4: 4, 5: 2, 6: 1, 7: 6, 8: 2, 9: 1, 10: 3, 11: 7, 12: 1, 13: 4, 14: 5, 15: 3, 16: 5}\n",
            "7\t\t10\t\t93 kg\t\t{3: 2, 2: 5, 1: 3, 4: 4, 5: 2, 6: 1, 7: 6, 8: 2, 9: 1, 10: 3, 11: 7, 12: 1, 13: 4, 14: 5, 15: 3, 16: 5}\n",
            "8\t\t11\t\t101 kg\t\t{4: 4, 3: 2, 2: 5, 1: 3, 5: 2, 6: 1, 7: 6, 8: 2, 9: 1, 10: 3, 11: 7, 12: 1, 13: 4, 14: 5, 15: 3, 16: 5}\n",
            "9\t\t13\t\t117 kg\t\t{4: 4, 3: 2, 2: 5, 1: 3, 5: 2, 6: 1, 7: 6, 8: 2, 9: 1, 10: 3, 11: 7, 12: 1, 13: 4, 14: 5, 15: 3, 16: 5}\n",
            "10\t\t14\t\t125 kg\t\t{4: 4, 2: 5, 1: 3, 3: 2, 5: 2, 6: 1, 7: 6, 8: 2, 9: 1, 10: 3, 11: 7, 12: 1, 13: 4, 14: 5, 15: 3, 16: 5}\n",
            "11\t\t15\t\t145 kg\t\t{5: 2, 4: 4, 2: 5, 1: 3, 3: 2, 6: 1, 7: 6, 8: 2, 9: 1, 10: 3, 11: 7, 12: 1, 13: 4, 14: 5, 15: 3, 16: 5}\n",
            "12\t\t16\t\t165 kg\t\t{5: 2, 4: 4, 2: 5, 1: 3, 3: 2, 6: 1, 7: 6, 8: 2, 9: 1, 10: 3, 11: 7, 12: 1, 13: 4, 14: 5, 15: 3, 16: 5}\n",
            "13\t\t17\t\t179 kg\t\t{6: 1, 5: 2, 4: 4, 2: 5, 1: 3, 3: 2, 7: 6, 8: 2, 9: 1, 10: 3, 11: 7, 12: 1, 13: 4, 14: 5, 15: 3, 16: 5}\n",
            "14\t\t18\t\t185 kg\t\t{7: 6, 6: 1, 4: 4, 2: 5, 1: 3, 3: 2, 5: 2, 8: 2, 9: 1, 10: 3, 11: 7, 12: 1, 13: 4, 14: 5, 15: 3, 16: 5}\n",
            "15\t\t20\t\t197 kg\t\t{7: 6, 4: 4, 2: 5, 1: 3, 3: 2, 5: 2, 6: 1, 8: 2, 9: 1, 10: 3, 11: 7, 12: 1, 13: 4, 14: 5, 15: 3, 16: 5}\n",
            "16\t\t23\t\t215 kg\t\t{7: 6, 2: 5, 1: 3, 3: 2, 4: 4, 5: 2, 6: 1, 8: 2, 9: 1, 10: 3, 11: 7, 12: 1, 13: 4, 14: 5, 15: 3, 16: 5}\n",
            "17\t\t24\t\t228 kg\t\t{8: 2, 7: 6, 2: 5, 1: 3, 3: 2, 4: 4, 5: 2, 6: 1, 9: 1, 10: 3, 11: 7, 12: 1, 13: 4, 14: 5, 15: 3, 16: 5}\n",
            "18\t\t25\t\t241 kg\t\t{8: 2, 7: 6, 2: 5, 1: 3, 3: 2, 4: 4, 5: 2, 6: 1, 9: 1, 10: 3, 11: 7, 12: 1, 13: 4, 14: 5, 15: 3, 16: 5}\n",
            "19\t\t26\t\t256 kg\t\t{9: 1, 8: 2, 7: 6, 2: 5, 1: 3, 3: 2, 4: 4, 5: 2, 6: 1, 10: 3, 11: 7, 12: 1, 13: 4, 14: 5, 15: 3, 16: 5}\n",
            "20\t\t27\t\t266 kg\t\t{10: 3, 9: 1, 8: 2, 7: 6, 2: 5, 1: 3, 3: 2, 4: 4, 5: 2, 6: 1, 11: 7, 12: 1, 13: 4, 14: 5, 15: 3, 16: 5}\n",
            "21\t\t29\t\t286 kg\t\t{10: 3, 9: 1, 8: 2, 7: 6, 2: 5, 1: 3, 3: 2, 4: 4, 5: 2, 6: 1, 11: 7, 12: 1, 13: 4, 14: 5, 15: 3, 16: 5}\n",
            "22\t\t30\t\t296 kg\t\t{11: 7, 10: 3, 7: 6, 1: 3, 2: 5, 3: 2, 4: 4, 5: 2, 6: 1, 8: 2, 9: 1, 12: 1, 13: 4, 14: 5, 15: 3, 16: 5}\n",
            "23\t\t32\t\t316 kg\t\t{11: 7, 10: 3, 7: 6, 1: 3, 2: 5, 3: 2, 4: 4, 5: 2, 6: 1, 8: 2, 9: 1, 12: 1, 13: 4, 14: 5, 15: 3, 16: 5}\n",
            "24\t\t36\t\t356 kg\t\t{11: 7, 10: 3, 7: 6, 1: 3, 2: 5, 3: 2, 4: 4, 5: 2, 6: 1, 8: 2, 9: 1, 12: 1, 13: 4, 14: 5, 15: 3, 16: 5}\n",
            "25\t\t37\t\t372 kg\t\t{12: 1, 11: 7, 10: 3, 7: 6, 1: 3, 2: 5, 3: 2, 4: 4, 5: 2, 6: 1, 8: 2, 9: 1, 13: 4, 14: 5, 15: 3, 16: 5}\n",
            "26\t\t38\t\t380 kg\t\t{13: 4, 12: 1, 11: 7, 10: 3, 7: 6, 1: 3, 2: 5, 3: 2, 4: 4, 5: 2, 6: 1, 8: 2, 9: 1, 14: 5, 15: 3, 16: 5}\n",
            "27\t\t40\t\t396 kg\t\t{13: 4, 11: 7, 10: 3, 7: 6, 1: 3, 2: 5, 3: 2, 4: 4, 5: 2, 6: 1, 8: 2, 9: 1, 12: 1, 14: 5, 15: 3, 16: 5}\n",
            "28\t\t41\t\t404 kg\t\t{13: 4, 11: 7, 10: 3, 7: 6, 1: 3, 2: 5, 3: 2, 4: 4, 5: 2, 6: 1, 8: 2, 9: 1, 12: 1, 14: 5, 15: 3, 16: 5}\n",
            "29\t\t42\t\t411 kg\t\t{14: 5, 13: 4, 10: 3, 7: 6, 2: 5, 1: 3, 3: 2, 4: 4, 5: 2, 6: 1, 8: 2, 9: 1, 11: 7, 12: 1, 15: 3, 16: 5}\n",
            "30\t\t44\t\t425 kg\t\t{14: 5, 13: 4, 7: 6, 2: 5, 1: 3, 3: 2, 4: 4, 5: 2, 6: 1, 8: 2, 9: 1, 10: 3, 11: 7, 12: 1, 15: 3, 16: 5}\n",
            "31\t\t46\t\t439 kg\t\t{14: 5, 13: 4, 10: 3, 7: 6, 2: 5, 1: 3, 3: 2, 4: 4, 5: 2, 6: 1, 8: 2, 9: 1, 11: 7, 12: 1, 15: 3, 16: 5}\n",
            "32\t\t47\t\t448 kg\t\t{15: 3, 14: 5, 13: 4, 7: 6, 2: 5, 1: 3, 3: 2, 4: 4, 5: 2, 6: 1, 8: 2, 9: 1, 10: 3, 11: 7, 12: 1, 16: 5}\n",
            "33\t\t49\t\t466 kg\t\t{15: 3, 14: 5, 13: 4, 10: 3, 7: 6, 2: 5, 1: 3, 3: 2, 4: 4, 5: 2, 6: 1, 8: 2, 9: 1, 11: 7, 12: 1, 16: 5}\n",
            "34\t\t50\t\t472 kg\t\t{16: 6, 15: 3, 14: 5, 13: 3, 7: 6, 2: 5, 1: 3, 3: 2, 4: 4, 5: 2, 6: 1, 8: 2, 9: 1, 10: 3, 11: 7, 12: 1}\n",
            "35\t\t52\t\t484 kg\t\t{16: 6, 14: 5, 7: 6, 2: 5, 1: 3, 3: 2, 4: 4, 5: 2, 6: 1, 8: 2, 9: 1, 10: 3, 11: 7, 12: 1, 13: 4, 15: 2}\n",
            "36\t\t54\t\t482 kg\t\t{16: 6, 14: 5, 7: 6, 2: 5, 1: 3, 3: 2, 4: 4, 5: 2, 6: 1, 8: 2, 9: 1, 10: 3, 11: 7, 12: 1, 13: 4, 15: 2}\n",
            "37\t\t55\t\t494 kg\t\t{17: 1, 16: 6, 14: 5, 7: 6, 2: 5, 1: 3, 3: 2, 4: 4, 5: 2, 6: 1, 8: 2, 9: 1, 10: 3, 11: 7, 12: 1, 13: 4, 15: 1}\n",
            "38\t\t55\t\t486 kg\t\t{17: 2, 16: 6, 14: 5, 7: 6, 2: 5, 1: 3, 3: 2, 4: 4, 5: 2, 6: 1, 8: 2, 9: 1, 10: 3, 11: 7, 12: 1, 13: 4}\n",
            "39\t\t56\t\t497 kg\t\t{18: 2, 17: 2, 16: 6, 14: 2, 7: 6, 2: 5, 1: 3, 3: 2, 4: 4, 5: 2, 6: 1, 8: 2, 9: 1, 10: 3, 11: 7, 12: 1, 13: 4}\n",
            "40\t\t56\t\t492 kg\t\t{18: 2, 17: 2, 16: 6, 14: 3, 7: 6, 2: 5, 1: 3, 3: 2, 4: 4, 5: 2, 6: 1, 8: 2, 9: 1, 10: 3, 11: 7, 12: 1, 13: 3}\n",
            "41\t\t56\t\t491 kg\t\t{19: 1, 18: 2, 17: 2, 16: 6, 14: 2, 7: 6, 2: 5, 1: 3, 3: 2, 4: 4, 5: 2, 6: 1, 8: 2, 9: 1, 10: 3, 11: 7, 12: 1, 13: 2}\n",
            "42\t\t56\t\t487 kg\t\t{20: 1, 18: 2, 17: 2, 16: 6, 14: 2, 7: 6, 2: 5, 1: 3, 3: 2, 4: 4, 5: 2, 6: 1, 8: 2, 9: 1, 10: 3, 11: 7, 12: 1, 13: 2}\n",
            "43\t\t57\t\t493 kg\t\t{20: 3, 18: 2, 17: 2, 16: 6, 14: 2, 7: 6, 2: 5, 1: 3, 3: 2, 4: 4, 5: 2, 6: 1, 8: 2, 9: 1, 10: 3, 11: 7, 12: 1}\n",
            "\n",
            "Distribución óptima de productos:\n",
            "Producto 1: Cantidad = 3, Peso Total = 36 kg, Utilidad Total = 3\n",
            "Producto 2: Cantidad = 5, Peso Total = 35 kg, Utilidad Total = 5\n",
            "Producto 3: Cantidad = 2, Peso Total = 22 kg, Utilidad Total = 2\n",
            "Producto 4: Cantidad = 4, Peso Total = 32 kg, Utilidad Total = 4\n",
            "Producto 5: Cantidad = 2, Peso Total = 40 kg, Utilidad Total = 2\n",
            "Producto 6: Cantidad = 1, Peso Total = 14 kg, Utilidad Total = 1\n",
            "Producto 7: Cantidad = 6, Peso Total = 36 kg, Utilidad Total = 6\n",
            "Producto 8: Cantidad = 2, Peso Total = 26 kg, Utilidad Total = 2\n",
            "Producto 9: Cantidad = 1, Peso Total = 15 kg, Utilidad Total = 1\n",
            "Producto 10: Cantidad = 3, Peso Total = 30 kg, Utilidad Total = 3\n",
            "Producto 11: Cantidad = 7, Peso Total = 70 kg, Utilidad Total = 7\n",
            "Producto 12: Cantidad = 1, Peso Total = 16 kg, Utilidad Total = 1\n",
            "Producto 14: Cantidad = 2, Peso Total = 14 kg, Utilidad Total = 2\n",
            "Producto 16: Cantidad = 6, Peso Total = 36 kg, Utilidad Total = 6\n",
            "Producto 17: Cantidad = 2, Peso Total = 24 kg, Utilidad Total = 2\n",
            "Producto 18: Cantidad = 2, Peso Total = 22 kg, Utilidad Total = 2\n",
            "Producto 20: Cantidad = 3, Peso Total = 30 kg, Utilidad Total = 3\n",
            "\n",
            "Peso total utilizado (W_carga): 498 kg\n",
            "Utilidad total: 52\n",
            "Peso total del sistema (W_total): 1998 kg\n",
            "ISR obtenido (W_total / W_carga): 4.01\n"
          ]
        }
      ]
    },
    {
      "cell_type": "markdown",
      "source": [
        "### Resultados Optimización X Cantidad de Objetos"
      ],
      "metadata": {
        "id": "34n0vDGzLlZb"
      }
    },
    {
      "cell_type": "markdown",
      "source": [
        "| **Producto**  | **Cantidad** | **Peso Total (kg)** | **Utilidad Total** |\n",
        "|---------------|--------------|---------------------|--------------------|\n",
        "| Producto 1    | 3            | 36                  | 12                 |\n",
        "| Producto 2    | 5            | 35                  | 10                 |\n",
        "| Producto 3    | 2            | 22                  | 6                  |\n",
        "| Producto 4    | 4            | 32                  | 20                 |\n",
        "| Producto 5    | 2            | 40                  | 14                 |\n",
        "| Producto 6    | 1            | 14                  | 6                  |\n",
        "| Producto 7    | 6            | 36                  | 12                 |\n",
        "| Producto 8    | 2            | 26                  | 10                 |\n",
        "| Producto 9    | 1            | 15                  | 8                  |\n",
        "| Producto 10   | 3            | 30                  | 12                 |\n",
        "| Producto 11   | 7            | 70                  | 7                  |\n",
        "| Producto 12   | 1            | 16                  | 9                  |\n",
        "| Producto 14   | 2            | 14                  | 4                  |\n",
        "| Producto 16   | 6            | 36                  | 12                 |\n",
        "| Producto 17   | 2            | 24                  | 12                 |\n",
        "| Producto 18   | 2            | 22                  | 10                 |\n",
        "| Producto 20   | 3            | 30                  | 12                 |\n",
        "\n",
        "\n",
        "**Peso total utilizado**: 498 kg\n",
        "\n",
        "**Utilidad total**: 176\n",
        "\n",
        "**Cantidad de objetos**:52"
      ],
      "metadata": {
        "id": "a2r18RIALkRA"
      }
    },
    {
      "cell_type": "markdown",
      "source": [
        "## Aplicación Algoritmo Greedy -Optimización Cantidad Objetos Nave Espacial"
      ],
      "metadata": {
        "id": "gqTenU_RbhQ6"
      }
    },
    {
      "cell_type": "code",
      "source": [
        "# Productos y parámetros\n",
        "productos = [\n",
        "    {'id': 1, 'peso': 12, 'utilidad': 1, 'max_cantidad': 3},\n",
        "    {'id': 2, 'peso': 7, 'utilidad': 1, 'max_cantidad': 5},\n",
        "    {'id': 3, 'peso': 11, 'utilidad': 1, 'max_cantidad': 2},\n",
        "    {'id': 4, 'peso': 8, 'utilidad': 1, 'max_cantidad': 4},\n",
        "    {'id': 5, 'peso': 20, 'utilidad': 1, 'max_cantidad': 2},\n",
        "    {'id': 6, 'peso': 14, 'utilidad': 1, 'max_cantidad': 1},\n",
        "    {'id': 7, 'peso': 6, 'utilidad': 1, 'max_cantidad': 6},\n",
        "    {'id': 8, 'peso': 13, 'utilidad': 1, 'max_cantidad': 2},\n",
        "    {'id': 9, 'peso': 15, 'utilidad': 1, 'max_cantidad': 1},\n",
        "    {'id': 10, 'peso': 10, 'utilidad': 1, 'max_cantidad': 3},\n",
        "    {'id': 11, 'peso': 10, 'utilidad': 1, 'max_cantidad': 7},\n",
        "    {'id': 12, 'peso': 16, 'utilidad': 1, 'max_cantidad': 1},\n",
        "    {'id': 13, 'peso': 8, 'utilidad': 1, 'max_cantidad': 4},\n",
        "    {'id': 14, 'peso': 7, 'utilidad': 1, 'max_cantidad': 5},\n",
        "    {'id': 15, 'peso': 9, 'utilidad': 1, 'max_cantidad': 3},\n",
        "    {'id': 16, 'peso': 6, 'utilidad': 1, 'max_cantidad': 6},\n",
        "    {'id': 17, 'peso': 12, 'utilidad': 1, 'max_cantidad': 2},\n",
        "    {'id': 18, 'peso': 11, 'utilidad': 1, 'max_cantidad': 2},\n",
        "    {'id': 19, 'peso': 14, 'utilidad': 1, 'max_cantidad': 1},\n",
        "    {'id': 20, 'peso': 10, 'utilidad': 1, 'max_cantidad': 3},\n",
        "]\n",
        "\n",
        "capacidad_peso = 500  # kg\n",
        "\n",
        "# Ordenar los productos por peso ascendente\n",
        "productos_ordenados = sorted(productos, key=lambda x: x['peso'])\n",
        "\n",
        "# Algoritmo greedy\n",
        "capacidad_restante = capacidad_peso\n",
        "productos_seleccionados = {}\n",
        "\n",
        "for producto in productos_ordenados:\n",
        "    peso_objeto = producto['peso']\n",
        "    max_cantidad = producto['max_cantidad']\n",
        "    cantidad = min(max_cantidad, capacidad_restante // peso_objeto)\n",
        "    if cantidad > 0:\n",
        "        productos_seleccionados[producto['id']] = cantidad\n",
        "        capacidad_restante -= cantidad * peso_objeto\n",
        "\n",
        "# Calcular resultados\n",
        "peso_total = sum(productos_seleccionados[pid] * next(p['peso'] for p in productos if p['id'] == pid)\n",
        "                 for pid in productos_seleccionados)\n",
        "cantidad_total = sum(productos_seleccionados.values())\n",
        "\n",
        "# Mostrar resultados\n",
        "print(\"Resultados del algoritmo greedy:\")\n",
        "print(f\"Peso total utilizado: {peso_total} kg\")\n",
        "print(f\"Cantidad total de objetos seleccionados: {cantidad_total}\")\n",
        "print(\"\\nProductos seleccionados:\")\n",
        "for producto_id in sorted(productos_seleccionados):\n",
        "    cantidad = productos_seleccionados[producto_id]\n",
        "    producto = next(p for p in productos if p['id'] == producto_id)\n",
        "    peso_total_producto = producto['peso'] * cantidad\n",
        "    print(f\"Producto {producto_id}: Cantidad = {cantidad}, Peso Total = {peso_total_producto} kg\")"
      ],
      "metadata": {
        "colab": {
          "base_uri": "https://localhost:8080/"
        },
        "id": "6MQ1RcPfb-0m",
        "outputId": "a4d61df3-8e31-4104-8367-a92b024c5fd1"
      },
      "execution_count": null,
      "outputs": [
        {
          "output_type": "stream",
          "name": "stdout",
          "text": [
            "Resultados del algoritmo greedy:\n",
            "Peso total utilizado: 493 kg\n",
            "Cantidad total de objetos seleccionados: 57\n",
            "\n",
            "Productos seleccionados:\n",
            "Producto 1: Cantidad = 3, Peso Total = 36 kg\n",
            "Producto 2: Cantidad = 5, Peso Total = 35 kg\n",
            "Producto 3: Cantidad = 2, Peso Total = 22 kg\n",
            "Producto 4: Cantidad = 4, Peso Total = 32 kg\n",
            "Producto 7: Cantidad = 6, Peso Total = 36 kg\n",
            "Producto 8: Cantidad = 2, Peso Total = 26 kg\n",
            "Producto 10: Cantidad = 3, Peso Total = 30 kg\n",
            "Producto 11: Cantidad = 7, Peso Total = 70 kg\n",
            "Producto 13: Cantidad = 4, Peso Total = 32 kg\n",
            "Producto 14: Cantidad = 5, Peso Total = 35 kg\n",
            "Producto 15: Cantidad = 3, Peso Total = 27 kg\n",
            "Producto 16: Cantidad = 6, Peso Total = 36 kg\n",
            "Producto 17: Cantidad = 2, Peso Total = 24 kg\n",
            "Producto 18: Cantidad = 2, Peso Total = 22 kg\n",
            "Producto 20: Cantidad = 3, Peso Total = 30 kg\n"
          ]
        }
      ]
    },
    {
      "cell_type": "markdown",
      "source": [
        "### Resultados Algoritmo Greedy"
      ],
      "metadata": {
        "id": "K0L8BdX0cBw3"
      }
    },
    {
      "cell_type": "markdown",
      "source": [
        "| **Producto** | **Cantidad** | **Peso Total (kg)** |\n",
        "|--------------|--------------|----------------------|\n",
        "| Producto 1   | 3            | 36                   |\n",
        "| Producto 2   | 5            | 35                   |\n",
        "| Producto 3   | 2            | 22                   |\n",
        "| Producto 4   | 4            | 32                   |\n",
        "| Producto 7   | 6            | 36                   |\n",
        "| Producto 8   | 2            | 26                   |\n",
        "| Producto 10  | 3            | 30                   |\n",
        "| Producto 11  | 7            | 70                   |\n",
        "| Producto 13  | 4            | 32                   |\n",
        "| Producto 14  | 5            | 35                   |\n",
        "| Producto 15  | 3            | 27                   |\n",
        "| Producto 16  | 6            | 36                   |\n",
        "| Producto 17  | 2            | 24                   |\n",
        "| Producto 18  | 2            | 22                   |\n",
        "| Producto 20  | 3            | 30                   |\n",
        "\n",
        "**Peso total utilizado:** 493 kg\n",
        "\n",
        "**Cantidad total de objetos seleccionados:** 57"
      ],
      "metadata": {
        "id": "6D7yQJZsc61L"
      }
    },
    {
      "cell_type": "markdown",
      "source": [
        "## Gráficos"
      ],
      "metadata": {
        "id": "P9lvkcvo_-xE"
      }
    },
    {
      "cell_type": "code",
      "source": [
        "import numpy as np\n",
        "import matplotlib.pyplot as plt"
      ],
      "metadata": {
        "id": "dkqd_MwgnBMs"
      },
      "execution_count": null,
      "outputs": []
    },
    {
      "cell_type": "code",
      "source": [
        "# Paleta de colores\n",
        "colores = {\n",
        "    'azul_marino': '#2c3e50',\n",
        "    'azul_claro': '#85c1e9'\n",
        "}"
      ],
      "metadata": {
        "id": "FBVYQCZ9mYJK"
      },
      "execution_count": null,
      "outputs": []
    },
    {
      "cell_type": "markdown",
      "source": [
        "###Peso y Utilidad Total por Modelo"
      ],
      "metadata": {
        "id": "MaIoph2eB_Zn"
      }
    },
    {
      "cell_type": "code",
      "source": [
        "# Datos para los modelos\n",
        "modelos = ['Optimización-Utilidad', 'Optimización-Peso']\n",
        "peso_total = [497, 498]\n",
        "utilidad_total = [185, 176]\n",
        "\n",
        "x = np.arange(len(modelos))\n",
        "bar_width = 0.25\n",
        "\n",
        "\n",
        "fig, ax = plt.subplots(figsize=(8, 6))\n",
        "\n",
        "\n",
        "bar1 = ax.bar(x - bar_width / 2, peso_total, bar_width, label='Peso Total Utilizado', color=colores['azul_marino'])\n",
        "bar2 = ax.bar(x + bar_width / 2, utilidad_total, bar_width, label='Utilidad Total', color=colores['azul_claro'])\n",
        "\n",
        "# Etiquetas y título\n",
        "ax.set_xlabel('Modelo')\n",
        "ax.set_ylabel('Valor')\n",
        "ax.set_title('Comparación de Peso y Utilidad por Modelo')\n",
        "ax.set_xticks(x)\n",
        "ax.set_xticklabels(modelos)\n",
        "ax.legend()\n",
        "\n",
        "# Valores de peso encima de las barras\n",
        "for i, v in enumerate(peso_total):\n",
        "    ax.text(i - bar_width / 2, v + 2, str(v), ha='center', va='bottom', color='black', fontweight='bold')\n",
        "\n",
        "# Valores de utilidad encima de las barras\n",
        "for i, v in enumerate(utilidad_total):\n",
        "    ax.text(i + bar_width / 2, v + 2, str(v), ha='center', va='bottom', color='black', fontweight='bold')\n",
        "\n",
        "\n",
        "plt.tight_layout()\n",
        "plt.show()"
      ],
      "metadata": {
        "colab": {
          "base_uri": "https://localhost:8080/",
          "height": 607
        },
        "id": "aDxtLt44TmMl",
        "outputId": "4ab0e5f7-1646-4151-e655-1e64796c2c32"
      },
      "execution_count": null,
      "outputs": [
        {
          "output_type": "display_data",
          "data": {
            "text/plain": [
              "<Figure size 800x600 with 1 Axes>"
            ],
            "image/png": "[encoded data removed]"
          },
          "metadata": {}
        }
      ]
    },
    {
      "cell_type": "markdown",
      "source": [
        "### Distribución de Cantidad Objetos por Producto en Cada Modelo"
      ],
      "metadata": {
        "id": "etA3GPmjCH_U"
      }
    },
    {
      "cell_type": "code",
      "source": [
        "# Datos\n",
        "productos = [\n",
        "    \"Producto 1\", \"Producto 2\", \"Producto 3\", \"Producto 4\", \"Producto 5\",\n",
        "    \"Producto 6\", \"Producto 7\", \"Producto 8\", \"Producto 9\", \"Producto 10\",\n",
        "    \"Producto 11\", \"Producto 12\", \"Producto 13\", \"Producto 14\", \"Producto 15\",\n",
        "    \"Producto 16\", \"Producto 17\", \"Producto 18\", \"Producto 19\", \"Producto 20\"\n",
        "]\n",
        "cantidades_utilidad = [3, 5, 2, 4, 2, 1, 6, 2, 1, 3, 7, 1, 1, 0, 3, 0, 2, 2, 1, 3]\n",
        "cantidades_peso = [3, 5, 2, 4, 2, 1, 6, 2, 1, 3, 7, 1, 0, 2, 0, 6, 2, 2, 0, 3]\n",
        "\n",
        "\n",
        "x = np.arange(len(productos))\n",
        "width = 0.3\n",
        "\n",
        "\n",
        "fig, ax = plt.subplots(figsize=(14, 7))\n",
        "\n",
        "# Barras para la cantidad en optimización por utilidad\n",
        "barras_utilidad = ax.bar(x - width/2, cantidades_utilidad, width, label='Optimización por utilidad', color=colores['azul_marino'])\n",
        "\n",
        "# Barras para la cantidad en optimización por peso\n",
        "barras_peso = ax.bar(x + width/2, cantidades_peso, width, label='Optimización por peso', color=colores['azul_claro'])\n",
        "\n",
        "# Etiquetas y título\n",
        "ax.set_title(\"Distribución de Producutos en Cada Modelo\", fontsize=14, weight='bold')\n",
        "ax.set_ylabel(\"Cantidad\", fontsize=12)\n",
        "ax.set_xticks(x)\n",
        "ax.set_xticklabels(productos, rotation=45, ha='right', fontsize=10)\n",
        "ax.legend()\n",
        "\n",
        "# Valores encima de las barras\n",
        "for barra in barras_utilidad:\n",
        "    altura = barra.get_height()\n",
        "    if altura > 0:\n",
        "        ax.annotate(f'{int(altura)}', xy=(barra.get_x() + barra.get_width()/2, altura),\n",
        "                    xytext=(0, 3), textcoords=\"offset points\", ha='center', fontsize=10)\n",
        "\n",
        "for barra in barras_peso:\n",
        "    altura = barra.get_height()\n",
        "    if altura > 0:\n",
        "        ax.annotate(f'{int(altura)}', xy=(barra.get_x() + barra.get_width()/2, altura),\n",
        "                    xytext=(0, 3), textcoords=\"offset points\", ha='center', fontsize=10)\n",
        "\n",
        "\n",
        "plt.tight_layout()\n",
        "plt.show()"
      ],
      "metadata": {
        "colab": {
          "base_uri": "https://localhost:8080/",
          "height": 596
        },
        "id": "cIGh5HBdDfuc",
        "outputId": "b908286b-1a72-4d6e-ca5a-84c1cda5a970"
      },
      "execution_count": null,
      "outputs": [
        {
          "output_type": "display_data",
          "data": {
            "text/plain": [
              "<Figure size 1400x700 with 1 Axes>"
            ],
            "image/png": "[encoded data removed]"
          },
          "metadata": {}
        }
      ]
    },
    {
      "cell_type": "markdown",
      "source": [
        "### Cantidad de Productos por Modelo"
      ],
      "metadata": {
        "id": "NmvY0drsEUvq"
      }
    },
    {
      "cell_type": "code",
      "source": [
        "modelos = [\"Optimización por utilidad\", \"Optimización por peso\"]\n",
        "cantidades_totales = [49, 52]\n",
        "\n",
        "# Crear el gráfico\n",
        "x = np.arange(len(modelos))\n",
        "width = 0.25\n",
        "\n",
        "fig, ax = plt.subplots(figsize=(6, 5))\n",
        "\n",
        "\n",
        "barras = ax.bar(x, cantidades_totales, width, color=[colores['azul_marino'], colores['azul_claro']])\n",
        "\n",
        "# Etiquetas y título\n",
        "ax.set_title(\"Cantidad Total de Productos Seleccionados por Modelo de Optimización\", fontsize=14, weight='bold')\n",
        "ax.set_xlabel(\"Modelo de Optimización\", fontsize=12)\n",
        "ax.set_ylabel(\"Cantidad total de Productos\", fontsize=12)\n",
        "ax.set_xticks(x)\n",
        "ax.set_xticklabels(modelos, fontsize=10)\n",
        "\n",
        "# Valores encima de las barras\n",
        "for barra in barras:\n",
        "    altura = barra.get_height()\n",
        "    ax.annotate(f'{altura}', xy=(barra.get_x() + barra.get_width() / 2, altura),\n",
        "                xytext=(0, 3), textcoords=\"offset points\", ha='center', fontsize=10)\n",
        "\n",
        "\n",
        "plt.tight_layout()\n",
        "plt.show()"
      ],
      "metadata": {
        "colab": {
          "base_uri": "https://localhost:8080/",
          "height": 507
        },
        "id": "-uyUz9z4Hc5t",
        "outputId": "c104ea53-3225-4912-a683-4f0a97891795"
      },
      "execution_count": null,
      "outputs": [
        {
          "output_type": "display_data",
          "data": {
            "text/plain": [
              "<Figure size 600x500 with 1 Axes>"
            ],
            "image/png": "[encoded data removed]"
          },
          "metadata": {}
        }
      ]
    },
    {
      "cell_type": "markdown",
      "source": [
        "# Ejemplo Optimización Mochila Diaria Astronauta"
      ],
      "metadata": {
        "id": "78q9TTIbyLCV"
      }
    },
    {
      "cell_type": "markdown",
      "source": [
        "**Comparativa de Optimización x Cantidad de Objetos VS  x Utilidad**"
      ],
      "metadata": {
        "id": "zFf-UjAl_COW"
      }
    },
    {
      "cell_type": "markdown",
      "source": [
        "Para ilustrar más claramente la diferencia entre la optimización por peso y la optimización por utilidad, consideremos una situación simplificada en la que el astronauta debe decidir qué objetos llevar en su mochila para su día a día en la nave espacial. Estos objetos tienen restricciones de peso y utilidad, así como una cantidad máxima permitida.\n",
        "\n"
      ],
      "metadata": {
        "id": "ZEeF8ZGDyWsJ"
      }
    },
    {
      "cell_type": "markdown",
      "source": [
        "### Datos de la Mochila Diaria del Astronauta"
      ],
      "metadata": {
        "id": "4TGPAkv31c3j"
      }
    },
    {
      "cell_type": "markdown",
      "source": [
        "\n",
        "| **Objeto**            | **Peso (kg)** | **Utilidad** | **Cantidad Máxima** |\n",
        "|-----------------------|---------------|--------------|---------------------|\n",
        "| Kit de herramientas   | 5             | 10           | 2                   |\n",
        "| Comida liofilizada    | 3             | 4            | 3                   |\n",
        "| Botellas de agua      | 2             | 2            | 4                   |\n",
        "| Linternas             | 1             | 1            | 6                   |\n",
        "\n",
        "> Nota: La capacidad máxima de la mochila es de **10 kg**"
      ],
      "metadata": {
        "id": "StVmee6w1pJY"
      }
    },
    {
      "cell_type": "markdown",
      "source": [
        "### Optimización x **Utilidad**"
      ],
      "metadata": {
        "id": "CRHsLT_q2GpB"
      }
    },
    {
      "cell_type": "markdown",
      "source": [
        "**Objetivo:**\n",
        "\n",
        "Determinar qué combinación de objetos debe llevar el astronauta en su mochila para *maximizar la utilidad total*, cumpliendo con las restricciones de peso y disponibilidad."
      ],
      "metadata": {
        "id": "jkJ7wYjw2PYr"
      }
    },
    {
      "cell_type": "code",
      "source": [
        "# Lista de productos con sus características\n",
        "productos = [\n",
        "  {'id': 1, 'peso': 5, 'utilidad': 10, 'max_cantidad': 2},\n",
        "    {'id': 2, 'peso': 3, 'utilidad': 4, 'max_cantidad': 3},\n",
        "    {'id': 3, 'peso': 2, 'utilidad': 2,'max_cantidad': 4},\n",
        "    {'id': 4, 'peso': 1, 'utilidad': 1, 'max_cantidad': 6},\n",
        "\n",
        "\n",
        "]\n",
        "# Capacidad máxima de peso\n",
        "capacidad_peso = 10  # kg\n",
        "\n",
        "# Representación binaria de las cantidades\n",
        "pesos = []\n",
        "utilidades = []\n",
        "indices_productos = []\n",
        "cantidades_subproductos = []\n",
        "\n",
        "for producto in productos:\n",
        "    cantidad = producto['max_cantidad']\n",
        "    k = 1\n",
        "    while cantidad > 0:\n",
        "        num = min(k, cantidad)\n",
        "        pesos.append(producto['peso'] * num)\n",
        "        utilidades.append(producto['utilidad'] * num)\n",
        "        indices_productos.append(producto['id'])\n",
        "        cantidades_subproductos.append(num)\n",
        "        cantidad -= num\n",
        "        k *= 2\n",
        "\n",
        "n = len(pesos)\n",
        "\n",
        "# Inicializar la programación dinámica\n",
        "dp = [0] * (capacidad_peso + 1)\n",
        "pre = [-1] * (capacidad_peso + 1)\n",
        "item = [-1] * (capacidad_peso + 1)\n",
        "\n",
        "# Programación dinámica con relleno del espacio restante\n",
        "print(\"Iteración\\tUtilidad Total\\tPeso Total Utilizado\\tProductos Seleccionados\")\n",
        "productos_seleccionados_iteracion = {}\n",
        "\n",
        "for i in range(n):\n",
        "    peso = pesos[i]\n",
        "    utilidad = utilidades[i]\n",
        "    producto_id = indices_productos[i]\n",
        "    cantidad = cantidades_subproductos[i]\n",
        "\n",
        "    for w in range(capacidad_peso, peso - 1, -1):\n",
        "        if dp[w - peso] + utilidad > dp[w]:\n",
        "            dp[w] = dp[w - peso] + utilidad\n",
        "            pre[w] = w - peso\n",
        "            item[w] = i\n",
        "\n",
        "    # Después de actualizar `dp`, reconstruir la solución actual\n",
        "    max_utilidad = max(dp)\n",
        "    peso_utilizado = dp.index(max_utilidad)\n",
        "    w_temp = peso_utilizado\n",
        "    productos_seleccionados_iteracion.clear()\n",
        "\n",
        "    while w_temp > 0 and item[w_temp] != -1:\n",
        "        idx = item[w_temp]\n",
        "        p_id = indices_productos[idx]\n",
        "        cantidad_utilizada = cantidades_subproductos[idx]\n",
        "        if p_id in productos_seleccionados_iteracion:\n",
        "            productos_seleccionados_iteracion[p_id] += cantidad_utilizada\n",
        "        else:\n",
        "            productos_seleccionados_iteracion[p_id] = cantidad_utilizada\n",
        "        w_temp = pre[w_temp]\n",
        "\n",
        "    # Ajustar cantidades a máximos\n",
        "    for pid in productos_seleccionados_iteracion:\n",
        "        max_cantidad = next(p['max_cantidad'] for p in productos if p['id'] == pid)\n",
        "        if productos_seleccionados_iteracion[pid] > max_cantidad:\n",
        "            productos_seleccionados_iteracion[pid] = max_cantidad\n",
        "\n",
        "    # Paso adicional: llenar el espacio restante\n",
        "    peso_total_actual = sum(\n",
        "        productos_seleccionados_iteracion.get(pid, 0) * next(p['peso'] for p in productos if p['id'] == pid)\n",
        "        for pid in productos_seleccionados_iteracion\n",
        "    )\n",
        "\n",
        "    for producto in productos:\n",
        "        while (\n",
        "            peso_total_actual + producto['peso'] <= capacidad_peso\n",
        "            and productos_seleccionados_iteracion.get(producto['id'], 0) < producto['max_cantidad']\n",
        "        ):\n",
        "            if producto['id'] in productos_seleccionados_iteracion:\n",
        "                productos_seleccionados_iteracion[producto['id']] += 1\n",
        "            else:\n",
        "                productos_seleccionados_iteracion[producto['id']] = 1\n",
        "            peso_total_actual += producto['peso']\n",
        "\n",
        "    # Mostrar la información de la iteración\n",
        "    print(f\"{i+1}\\t\\t{max_utilidad}\\t\\t{peso_utilizado} kg\\t\\t{productos_seleccionados_iteracion}\")\n",
        "\n",
        "# Reconstrucción de la solución final utilizando la última iteración\n",
        "productos_seleccionados = productos_seleccionados_iteracion.copy()\n",
        "\n",
        "# Calcular la utilidad total y peso total\n",
        "peso_total = sum(\n",
        "    productos_seleccionados[pid] * next(p['peso'] for p in productos if p['id'] == pid)\n",
        "    for pid in productos_seleccionados\n",
        ")\n",
        "utilidad_total = sum(\n",
        "    productos_seleccionados[pid] * next(p['utilidad'] for p in productos if p['id'] == pid)\n",
        "    for pid in productos_seleccionados\n",
        ")\n",
        "\n",
        "# Mostrar resultados finales\n",
        "print(\"\\nDistribución óptima de productos:\")\n",
        "for producto_id in sorted(productos_seleccionados):\n",
        "    cantidad = productos_seleccionados[producto_id]\n",
        "    producto = next(p for p in productos if p['id'] == producto_id)\n",
        "    peso_total_producto = producto['peso'] * cantidad\n",
        "    utilidad_total_producto = producto['utilidad'] * cantidad\n",
        "    print(f\"Producto {producto_id}: Cantidad = {cantidad}, Peso Total = {peso_total_producto} kg, Utilidad Total = {utilidad_total_producto}\")\n",
        "\n",
        "print(f\"\\nPeso total utilizado: {peso_total} kg\")\n",
        "print(f\"Utilidad total: {utilidad_total}\")"
      ],
      "metadata": {
        "colab": {
          "base_uri": "https://localhost:8080/"
        },
        "id": "N4Rs_Sue2r9V",
        "outputId": "9ab1f80e-d606-42b1-b1f0-0196b1110448"
      },
      "execution_count": null,
      "outputs": [
        {
          "output_type": "stream",
          "name": "stdout",
          "text": [
            "Iteración\tUtilidad Total\tPeso Total Utilizado\tProductos Seleccionados\n",
            "1\t\t10\t\t5 kg\t\t{1: 2}\n",
            "2\t\t20\t\t10 kg\t\t{1: 2}\n",
            "3\t\t20\t\t10 kg\t\t{1: 2}\n",
            "4\t\t20\t\t10 kg\t\t{1: 2}\n",
            "5\t\t20\t\t10 kg\t\t{1: 2}\n",
            "6\t\t20\t\t10 kg\t\t{1: 2}\n",
            "7\t\t20\t\t10 kg\t\t{1: 2}\n",
            "8\t\t20\t\t10 kg\t\t{1: 2}\n",
            "9\t\t20\t\t10 kg\t\t{1: 2}\n",
            "10\t\t20\t\t10 kg\t\t{1: 2}\n",
            "\n",
            "Distribución óptima de productos:\n",
            "Producto 1: Cantidad = 2, Peso Total = 10 kg, Utilidad Total = 20\n",
            "\n",
            "Peso total utilizado: 10 kg\n",
            "Utilidad total: 20\n"
          ]
        }
      ]
    },
    {
      "cell_type": "markdown",
      "source": [
        "### Optimización x **Cantidad de Objetos**"
      ],
      "metadata": {
        "id": "Wep0bFUg3T5A"
      }
    },
    {
      "cell_type": "markdown",
      "source": [
        "**Objetivo:**\n",
        "\n",
        "Seleccionar la combinación de objetos que *maximice el número total de objetos en la mochila*, sin exceder la capacidad máxima de 10 kg y respetando las restricciones de disponibilidad."
      ],
      "metadata": {
        "id": "L36I7n4I4oRd"
      }
    },
    {
      "cell_type": "code",
      "source": [
        "# Lista de productos con sus características\n",
        "productos = [\n",
        "    {'id': 4, 'peso': 1, 'utilidad': 1, 'max_cantidad': 6},\n",
        "    {'id': 3, 'peso': 2, 'utilidad': 1,'max_cantidad': 4},\n",
        "    {'id': 2, 'peso': 3, 'utilidad': 1, 'max_cantidad': 3},\n",
        "    {'id': 1, 'peso': 5, 'utilidad': 1, 'max_cantidad': 2},\n",
        "\n",
        "\n",
        "\n",
        "\n",
        "]\n",
        "# Capacidad máxima de peso\n",
        "capacidad_peso = 10  # kg\n",
        "\n",
        "# Representación binaria de las cantidades\n",
        "pesos = []\n",
        "utilidades = []\n",
        "indices_productos = []\n",
        "cantidades_subproductos = []\n",
        "\n",
        "for producto in productos:\n",
        "    cantidad = producto['max_cantidad']\n",
        "    k = 1\n",
        "    while cantidad > 0:\n",
        "        num = min(k, cantidad)\n",
        "        pesos.append(producto['peso'] * num)\n",
        "        utilidades.append(producto['utilidad'] * num)\n",
        "        indices_productos.append(producto['id'])\n",
        "        cantidades_subproductos.append(num)\n",
        "        cantidad -= num\n",
        "        k *= 2\n",
        "\n",
        "n = len(pesos)\n",
        "\n",
        "# Inicializar la programación dinámica\n",
        "dp = [0] * (capacidad_peso + 1)\n",
        "pre = [-1] * (capacidad_peso + 1)\n",
        "item = [-1] * (capacidad_peso + 1)\n",
        "\n",
        "# Programación dinámica con relleno del espacio restante\n",
        "print(\"Iteración\\tUtilidad Total\\tPeso Total Utilizado\\tProductos Seleccionados\")\n",
        "productos_seleccionados_iteracion = {}\n",
        "\n",
        "for i in range(n):\n",
        "    peso = pesos[i]\n",
        "    utilidad = utilidades[i]\n",
        "    producto_id = indices_productos[i]\n",
        "    cantidad = cantidades_subproductos[i]\n",
        "\n",
        "    for w in range(capacidad_peso, peso - 1, -1):\n",
        "        if dp[w - peso] + utilidad > dp[w]:\n",
        "            dp[w] = dp[w - peso] + utilidad\n",
        "            pre[w] = w - peso\n",
        "            item[w] = i\n",
        "\n",
        "    # Después de actualizar `dp`, reconstruir la solución actual\n",
        "    max_utilidad = max(dp)\n",
        "    peso_utilizado = dp.index(max_utilidad)\n",
        "    w_temp = peso_utilizado\n",
        "    productos_seleccionados_iteracion.clear()\n",
        "\n",
        "    while w_temp > 0 and item[w_temp] != -1:\n",
        "        idx = item[w_temp]\n",
        "        p_id = indices_productos[idx]\n",
        "        cantidad_utilizada = cantidades_subproductos[idx]\n",
        "        if p_id in productos_seleccionados_iteracion:\n",
        "            productos_seleccionados_iteracion[p_id] += cantidad_utilizada\n",
        "        else:\n",
        "            productos_seleccionados_iteracion[p_id] = cantidad_utilizada\n",
        "        w_temp = pre[w_temp]\n",
        "\n",
        "    # Ajustar cantidades a máximos\n",
        "    for pid in productos_seleccionados_iteracion:\n",
        "        max_cantidad = next(p['max_cantidad'] for p in productos if p['id'] == pid)\n",
        "        if productos_seleccionados_iteracion[pid] > max_cantidad:\n",
        "            productos_seleccionados_iteracion[pid] = max_cantidad\n",
        "\n",
        "    # Paso adicional: llenar el espacio restante\n",
        "    peso_total_actual = sum(\n",
        "        productos_seleccionados_iteracion.get(pid, 0) * next(p['peso'] for p in productos if p['id'] == pid)\n",
        "        for pid in productos_seleccionados_iteracion\n",
        "    )\n",
        "\n",
        "    for producto in productos:\n",
        "        while (\n",
        "            peso_total_actual + producto['peso'] <= capacidad_peso\n",
        "            and productos_seleccionados_iteracion.get(producto['id'], 0) < producto['max_cantidad']\n",
        "        ):\n",
        "            if producto['id'] in productos_seleccionados_iteracion:\n",
        "                productos_seleccionados_iteracion[producto['id']] += 1\n",
        "            else:\n",
        "                productos_seleccionados_iteracion[producto['id']] = 1\n",
        "            peso_total_actual += producto['peso']\n",
        "\n",
        "    # Mostrar la información de la iteración\n",
        "    print(f\"{i+1}\\t\\t{max_utilidad}\\t\\t{peso_utilizado} kg\\t\\t{productos_seleccionados_iteracion}\")\n",
        "\n",
        "# Reconstrucción de la solución final utilizando la última iteración\n",
        "productos_seleccionados = productos_seleccionados_iteracion.copy()\n",
        "\n",
        "# Calcular la utilidad total y peso total\n",
        "peso_total = sum(\n",
        "    productos_seleccionados[pid] * next(p['peso'] for p in productos if p['id'] == pid)\n",
        "    for pid in productos_seleccionados\n",
        ")\n",
        "utilidad_total = sum(\n",
        "    productos_seleccionados[pid] * next(p['utilidad'] for p in productos if p['id'] == pid)\n",
        "    for pid in productos_seleccionados\n",
        ")\n",
        "\n",
        "# Mostrar resultados finales\n",
        "print(\"\\nDistribución óptima de productos:\")\n",
        "for producto_id in sorted(productos_seleccionados):\n",
        "    cantidad = productos_seleccionados[producto_id]\n",
        "    producto = next(p for p in productos if p['id'] == producto_id)\n",
        "    peso_total_producto = producto['peso'] * cantidad\n",
        "    utilidad_total_producto = producto['utilidad'] * cantidad\n",
        "    print(f\"Producto {producto_id}: Cantidad = {cantidad}, Peso Total = {peso_total_producto} kg, Utilidad Total = {utilidad_total_producto}\")\n",
        "\n",
        "print(f\"\\nPeso total utilizado: {peso_total} kg\")\n",
        "print(f\"Utilidad total: {utilidad_total}\")"
      ],
      "metadata": {
        "colab": {
          "base_uri": "https://localhost:8080/"
        },
        "id": "Scy-buh645Yz",
        "outputId": "9039f2e8-0e02-45fe-b4f8-96d0d5978e4a"
      },
      "execution_count": null,
      "outputs": [
        {
          "output_type": "stream",
          "name": "stdout",
          "text": [
            "Iteración\tUtilidad Total\tPeso Total Utilizado\tProductos Seleccionados\n",
            "1\t\t1\t\t1 kg\t\t{4: 6, 3: 2}\n",
            "2\t\t3\t\t3 kg\t\t{4: 6, 3: 2}\n",
            "3\t\t6\t\t6 kg\t\t{4: 6, 3: 2}\n",
            "4\t\t7\t\t8 kg\t\t{3: 2, 4: 6}\n",
            "5\t\t8\t\t10 kg\t\t{3: 2, 4: 6}\n",
            "6\t\t8\t\t10 kg\t\t{3: 2, 4: 6}\n",
            "7\t\t8\t\t10 kg\t\t{3: 2, 4: 6}\n",
            "8\t\t8\t\t10 kg\t\t{3: 2, 4: 6}\n",
            "9\t\t8\t\t10 kg\t\t{3: 2, 4: 6}\n",
            "10\t\t8\t\t10 kg\t\t{3: 2, 4: 6}\n",
            "\n",
            "Distribución óptima de productos:\n",
            "Producto 3: Cantidad = 2, Peso Total = 4 kg, Utilidad Total = 2\n",
            "Producto 4: Cantidad = 6, Peso Total = 6 kg, Utilidad Total = 6\n",
            "\n",
            "Peso total utilizado: 10 kg\n",
            "Utilidad total: 8\n"
          ]
        }
      ]
    },
    {
      "cell_type": "markdown",
      "source": [
        "## Comparativa de los Resultados"
      ],
      "metadata": {
        "id": "pOpodCRM8vkX"
      }
    },
    {
      "cell_type": "markdown",
      "source": [
        "### Comparación entre los Modelos de Optimización\n",
        "\n",
        "| Modelo                          | Cantidad de Objetos            | Peso Total Utilizado (kg) | Utilidad Total |\n",
        "|---------------------------------|--------------------------------|---------------------------|----------------|\n",
        "| Optimización por Cantidad       | 7  | 9 kg                     | 7              |\n",
        "| Optimización por Utilidad       | 2         | 10 kg                    | 20             |\n",
        "\n",
        "\n",
        "\n",
        "\n",
        " **Conclusiones**\n",
        "- Cantidad de Objetos: Ideal para maximizar la cantidad de productos transportados, aunque sean de menor importancia.\n",
        "- Utilidad: Adecuado para priorizar productos de alto valor, incluso con menor cantidad transportada.\n",
        "\n",
        "\n"
      ],
      "metadata": {
        "id": "NzT-pzB99HVj"
      }
    },
    {
      "cell_type": "markdown",
      "source": [
        "# Propuesta de Nuevos Algoritmos"
      ],
      "metadata": {
        "id": "xNtIIvp93N0e"
      }
    },
    {
      "cell_type": "markdown",
      "source": [
        "## Algoritmo Greedy - Optimización Para Cantidad Objetos"
      ],
      "metadata": {
        "id": "sudlObPg3gIY"
      }
    },
    {
      "cell_type": "markdown",
      "source": [
        " **Definición de Algoritmo Greedy**\n",
        "\n",
        "Un **algoritmo greedy** es aquel que toma decisiones óptimas a nivel local en cada paso con la esperanza de encontrar una solución global óptima."
      ],
      "metadata": {
        "id": "E2H56yS74KZg"
      }
    },
    {
      "cell_type": "markdown",
      "source": [
        "### Funcionamiento Algoritmo\n",
        "\n",
        "1. **Ordenación de Productos**\n",
        "   - Los productos se ordenan por peso ascendente en una array,es decir primero se colocarían los de menor peso.\n",
        "\n",
        "2. **Inicialización**\n",
        "   - Se crea un diccionario `seleccionados` para registrar la cantidad de cada producto seleccionado.\n",
        "   - Se inicializa `peso_actual` en 0 para medir el peso acumulado en la mochila.\n",
        "\n",
        "3. **Selección de Productos**\n",
        "   - Para cada producto en la lista ordenada:\n",
        "     - Mientras haya espacio en la mochila y unidades disponibles del producto:\n",
        "       - Se añade el producto a la mochila.\n",
        "       - Se actualizan `peso_actual` y la cantidad restante del producto."
      ],
      "metadata": {
        "id": "kfyaEkNt5OAQ"
      }
    },
    {
      "cell_type": "code",
      "source": [
        "productos = [\n",
        "    {'id': 1, 'peso': 5, 'utilidad': 10, 'max_cantidad': 2},\n",
        "    {'id': 2, 'peso': 3, 'utilidad': 6, 'max_cantidad': 3},\n",
        "    {'id': 3, 'peso': 2, 'utilidad': 5, 'max_cantidad': 4},\n",
        "    {'id': 4, 'peso': 1, 'utilidad': 1, 'max_cantidad': 6},\n",
        "]\n",
        "capacidad_peso = 10\n"
      ],
      "metadata": {
        "id": "kCEjTt9v6Hqq"
      },
      "execution_count": null,
      "outputs": []
    },
    {
      "cell_type": "code",
      "source": [
        "def mochila_greedy(productos, capacidad_peso):\n",
        "\n",
        "    # Ordenamos productos por peso de menos a más\n",
        "    productos_ordenados = sorted(productos, key=lambda x: x['peso'])\n",
        "\n",
        "    # Inializamos las variables\n",
        "    seleccionados = {}\n",
        "    peso_actual = 0\n",
        "\n",
        "    # Llenadp la mochila\n",
        "    for producto in productos_ordenados:\n",
        "        cantidad_disponible = producto['max_cantidad']\n",
        "        while peso_actual + producto['peso'] <= capacidad_peso and cantidad_disponible > 0:\n",
        "\n",
        "            # Añadir el producto a la mochila\n",
        "            if producto['id'] in seleccionados:\n",
        "                seleccionados[producto['id']] += 1\n",
        "            else:\n",
        "                seleccionados[producto['id']] = 1\n",
        "            peso_actual += producto['peso']\n",
        "            cantidad_disponible -= 1\n",
        "\n",
        "    # Calcular el peso y utilidad total\n",
        "    peso_total = sum(producto['peso'] * seleccionados.get(producto['id'], 0) for producto in productos)\n",
        "\n",
        "    return seleccionados, peso_total\n"
      ],
      "metadata": {
        "id": "YjPeuKDy3TDo"
      },
      "execution_count": null,
      "outputs": []
    },
    {
      "cell_type": "code",
      "source": [
        "seleccionados, peso_total, utilidad_total = mochila_greedy(productos, capacidad_peso)\n",
        "\n",
        "\n",
        "print(\"Distribución óptima de productos (Greedy):\")\n",
        "for producto_id, cantidad in seleccionados.items():\n",
        "    print(f\"Producto {producto_id}: Cantidad = {cantidad}\")\n",
        "print(f\"Peso total utilizado: {peso_total} kg\")\n"
      ],
      "metadata": {
        "colab": {
          "base_uri": "https://localhost:8080/"
        },
        "id": "frCmRrFo6UCN",
        "outputId": "d7b0fa68-882b-4648-d6d8-cfb939179ab3"
      },
      "execution_count": null,
      "outputs": [
        {
          "output_type": "stream",
          "name": "stdout",
          "text": [
            "Distribución óptima de productos (Greedy):\n",
            "Producto 4: Cantidad = 6\n",
            "Producto 3: Cantidad = 2\n",
            "Peso total utilizado: 10 kg\n"
          ]
        }
      ]
    },
    {
      "cell_type": "markdown",
      "source": [
        "## Algortimo Greedy- Optimización Para la Utilidad"
      ],
      "metadata": {
        "id": "4A8DCIOj7897"
      }
    },
    {
      "cell_type": "markdown",
      "source": [
        "### Funcionamiento Algoritmo"
      ],
      "metadata": {
        "id": "KhmR_om-bPlq"
      }
    },
    {
      "cell_type": "markdown",
      "source": [
        "El funcionamiento del algoritmo se resume en lo siguiente\n",
        "\n",
        "1. **Orden Productos**: Los productos se ordenan en una lista utilizando la relación ${utilidad} / {peso}$, en orden descendente (`sorted` con la clave especificada).\n",
        "2. **Selección de productos**:\n",
        "   - Se recorren los productos ordenados y, para cada uno, se intentan añadir unidades a la mochila mientras haya espacio disponible (`while` verifica el peso y la cantidad restante).\n",
        "   - Los productos seleccionados y sus cantidades se almacenan en un diccionario (`seleccionados`).\n",
        "3. **Cálculo de resultados**:\n",
        "   - El peso total utilizado y la utilidad total se calculan sumando las contribuciones de los productos seleccionados.\n"
      ],
      "metadata": {
        "id": "o-nPi4kwdiCB"
      }
    },
    {
      "cell_type": "code",
      "source": [
        "def mochila_greedy_utilidad(productos, capacidad_peso):\n",
        "\n",
        "    # Ordenar productos por utilidad relativa (utilidad / peso) en orden descendente\n",
        "    productos_ordenados = sorted(productos, key=lambda x: x['utilidad'] / x['peso'], reverse=True)\n",
        "    seleccionados = {}\n",
        "    peso_actual = 0\n",
        "\n",
        "    # Llenar la mochila\n",
        "    for producto in productos_ordenados:\n",
        "        cantidad_disponible = producto['max_cantidad']\n",
        "        while peso_actual + producto['peso'] <= capacidad_peso and cantidad_disponible > 0:\n",
        "            if producto['id'] in seleccionados:\n",
        "                seleccionados[producto['id']] += 1\n",
        "            else:\n",
        "                seleccionados[producto['id']] = 1\n",
        "            peso_actual += producto['peso']  # Actualizar el peso total utilizado\n",
        "            cantidad_disponible -= 1\n",
        "\n",
        "    # Calcular el peso y utilidad total\n",
        "    peso_total = sum(producto['peso'] * seleccionados.get(producto['id'], 0) for producto in productos)\n",
        "    utilidad_total = sum(producto['utilidad'] * seleccionados.get(producto['id'], 0) for producto in productos)\n",
        "\n",
        "    return seleccionados, peso_total, utilidad_total\n"
      ],
      "metadata": {
        "id": "h3DFjRY6-zuF"
      },
      "execution_count": null,
      "outputs": []
    },
    {
      "cell_type": "code",
      "source": [
        "productos = [\n",
        "    {'id': 1, 'peso': 5, 'utilidad': 10, 'max_cantidad': 2},\n",
        "    {'id': 2, 'peso': 3, 'utilidad': 9, 'max_cantidad': 3},\n",
        "    {'id': 3, 'peso': 2, 'utilidad': 8, 'max_cantidad': 4},\n",
        "    {'id': 4, 'peso': 1, 'utilidad': 3, 'max_cantidad': 6},\n",
        "]\n",
        "capacidad_peso = 10\n",
        "\n",
        "#Gredy x Utilidad\n",
        "seleccionados, peso_total, utilidad_total = mochila_greedy_utilidad(productos, capacidad_peso)\n",
        "\n",
        "# Resultados\n",
        "print(\"Distribución óptima de productos (Greedy por utilidad relativa):\")\n",
        "for producto_id, cantidad in seleccionados.items():\n",
        "    print(f\"Producto {producto_id}: Cantidad = {cantidad}\")\n",
        "print(f\"Peso total utilizado: {peso_total} kg\")\n",
        "print(f\"Utilidad total: {utilidad_total}\")"
      ],
      "metadata": {
        "colab": {
          "base_uri": "https://localhost:8080/"
        },
        "id": "Haq6ekiwuOiy",
        "outputId": "10b2eefd-6511-4f64-b9d2-e586fe9ed14f"
      },
      "execution_count": null,
      "outputs": [
        {
          "output_type": "stream",
          "name": "stdout",
          "text": [
            "Distribución óptima de productos (Greedy por utilidad relativa):\n",
            "Producto 3: Cantidad = 4\n",
            "Producto 4: Cantidad = 2\n",
            "Peso total utilizado: 10 kg\n",
            "Utilidad total: 38\n"
          ]
        }
      ]
    },
    {
      "cell_type": "markdown",
      "source": [
        "**Comparativa con el algoritmo de PD**"
      ],
      "metadata": {
        "id": "EJZEGIMfucsh"
      }
    },
    {
      "cell_type": "code",
      "source": [
        "productos = [\n",
        "    {'id': 1, 'peso': 5, 'utilidad': 10, 'max_cantidad': 2},\n",
        "    {'id': 2, 'peso': 3, 'utilidad': 9, 'max_cantidad': 3},\n",
        "    {'id': 3, 'peso': 2, 'utilidad': 8, 'max_cantidad': 4},\n",
        "    {'id': 4, 'peso': 1, 'utilidad': 3, 'max_cantidad': 6},\n",
        "]\n",
        "\n",
        "\n",
        "W_transbordador = 1000  # kg\n",
        "W_combustible = 500     # kg\n",
        "\n",
        "\n",
        "capacidad_peso = 10  # kg\n",
        "\n",
        "# Representación binaria de las cantidades\n",
        "pesos = []\n",
        "utilidades = []\n",
        "indices_productos = []\n",
        "cantidades_subproductos = []\n",
        "\n",
        "for producto in productos:\n",
        "    cantidad = producto['max_cantidad']\n",
        "    k = 1\n",
        "    while cantidad > 0:\n",
        "        num = min(k, cantidad)\n",
        "        pesos.append(producto['peso'] * num)\n",
        "        utilidades.append(producto['utilidad'] * num)\n",
        "        indices_productos.append(producto['id'])\n",
        "        cantidades_subproductos.append(num)\n",
        "        cantidad -= num\n",
        "        k *= 2\n",
        "\n",
        "n = len(pesos)\n",
        "\n",
        "# Inicializar la programación dinámica\n",
        "dp = [0] * (capacidad_peso + 1)\n",
        "pre = [-1] * (capacidad_peso + 1)\n",
        "item = [-1] * (capacidad_peso + 1)\n",
        "\n",
        "# Programación dinámica con relleno del espacio restante\n",
        "print(\"Iteración\\tUtilidad Total\\tPeso Total Utilizado\\tProductos Seleccionados\")\n",
        "productos_seleccionados_iteracion = {}\n",
        "\n",
        "for i in range(n):\n",
        "    peso = pesos[i]\n",
        "    utilidad = utilidades[i]\n",
        "    producto_id = indices_productos[i]\n",
        "    cantidad = cantidades_subproductos[i]\n",
        "\n",
        "    for w in range(capacidad_peso, peso - 1, -1):\n",
        "        if dp[w - peso] + utilidad > dp[w]:\n",
        "            dp[w] = dp[w - peso] + utilidad\n",
        "            pre[w] = w - peso\n",
        "            item[w] = i\n",
        "\n",
        "    # Después de actualizar `dp`, reconstruir la solución actual\n",
        "    max_utilidad = max(dp)\n",
        "    peso_utilizado = dp.index(max_utilidad)\n",
        "    w_temp = peso_utilizado\n",
        "    productos_seleccionados_iteracion.clear()\n",
        "\n",
        "    while w_temp > 0 and item[w_temp] != -1:\n",
        "        idx = item[w_temp]\n",
        "        p_id = indices_productos[idx]\n",
        "        cantidad_utilizada = cantidades_subproductos[idx]\n",
        "        if p_id in productos_seleccionados_iteracion:\n",
        "            productos_seleccionados_iteracion[p_id] += cantidad_utilizada\n",
        "        else:\n",
        "            productos_seleccionados_iteracion[p_id] = cantidad_utilizada\n",
        "        w_temp = pre[w_temp]\n",
        "\n",
        "    # Ajustar cantidades a máximos\n",
        "    for pid in productos_seleccionados_iteracion:\n",
        "        max_cantidad = next(p['max_cantidad'] for p in productos if p['id'] == pid)\n",
        "        if productos_seleccionados_iteracion[pid] > max_cantidad:\n",
        "            productos_seleccionados_iteracion[pid] = max_cantidad\n",
        "\n",
        "    # Paso adicional: llenar el espacio restante\n",
        "    peso_total_actual = sum(\n",
        "        productos_seleccionados_iteracion.get(pid, 0) * next(p['peso'] for p in productos if p['id'] == pid)\n",
        "        for pid in productos_seleccionados_iteracion\n",
        "    )\n",
        "\n",
        "    for producto in productos:\n",
        "        while (\n",
        "            peso_total_actual + producto['peso'] <= capacidad_peso\n",
        "            and productos_seleccionados_iteracion.get(producto['id'], 0) < producto['max_cantidad']\n",
        "        ):\n",
        "            if producto['id'] in productos_seleccionados_iteracion:\n",
        "                productos_seleccionados_iteracion[producto['id']] += 1\n",
        "            else:\n",
        "                productos_seleccionados_iteracion[producto['id']] = 1\n",
        "            peso_total_actual += producto['peso']\n",
        "\n",
        "    # Mostrar la información de la iteración\n",
        "    print(f\"{i+1}\\t\\t{max_utilidad}\\t\\t{peso_utilizado} kg\\t\\t{productos_seleccionados_iteracion}\")\n",
        "\n",
        "# Reconstrucción de la solución final utilizando la última iteración\n",
        "productos_seleccionados = productos_seleccionados_iteracion.copy()\n",
        "\n",
        "# Calcular la utilidad total y peso total\n",
        "peso_total = sum(\n",
        "    productos_seleccionados[pid] * next(p['peso'] for p in productos if p['id'] == pid)\n",
        "    for pid in productos_seleccionados\n",
        ")\n",
        "utilidad_total = sum(\n",
        "    productos_seleccionados[pid] * next(p['utilidad'] for p in productos if p['id'] == pid)\n",
        "    for pid in productos_seleccionados\n",
        ")\n",
        "\n",
        "# Calcular W_total y ISR\n",
        "W_carga = peso_total\n",
        "W_total = W_transbordador + W_combustible + W_carga\n",
        "ISR_obtenido = W_total / W_carga if W_carga != 0 else float('inf')\n",
        "\n",
        "# Mostrar resultados finales\n",
        "print(\"\\nDistribución óptima de productos:\")\n",
        "for producto_id in sorted(productos_seleccionados):\n",
        "    cantidad = productos_seleccionados[producto_id]\n",
        "    producto = next(p for p in productos if p['id'] == producto_id)\n",
        "    peso_total_producto = producto['peso'] * cantidad\n",
        "    utilidad_total_producto = producto['utilidad'] * cantidad\n",
        "    print(f\"Producto {producto_id}: Cantidad = {cantidad}, Peso Total = {peso_total_producto} kg, Utilidad Total = {utilidad_total_producto}\")\n",
        "\n",
        "print(f\"\\nPeso total utilizado (W_carga): {peso_total} kg\")\n",
        "print(f\"Utilidad total: {utilidad_total}\")\n"
      ],
      "metadata": {
        "colab": {
          "base_uri": "https://localhost:8080/"
        },
        "id": "NTUrnlx0_oW1",
        "outputId": "97c5c3f3-86ad-434b-e8e5-bafa559855f0"
      },
      "execution_count": null,
      "outputs": [
        {
          "output_type": "stream",
          "name": "stdout",
          "text": [
            "Iteración\tUtilidad Total\tPeso Total Utilizado\tProductos Seleccionados\n",
            "1\t\t10\t\t5 kg\t\t{1: 2}\n",
            "2\t\t20\t\t10 kg\t\t{1: 2}\n",
            "3\t\t20\t\t10 kg\t\t{1: 2}\n",
            "4\t\t27\t\t9 kg\t\t{2: 3, 4: 1}\n",
            "5\t\t27\t\t9 kg\t\t{2: 3, 4: 1}\n",
            "6\t\t34\t\t10 kg\t\t{3: 4, 4: 2}\n",
            "7\t\t34\t\t10 kg\t\t{3: 4, 4: 2}\n",
            "8\t\t36\t\t10 kg\t\t{4: 2, 3: 4}\n",
            "9\t\t38\t\t10 kg\t\t{4: 2, 3: 4}\n",
            "10\t\t38\t\t10 kg\t\t{4: 2, 3: 4}\n",
            "\n",
            "Distribución óptima de productos:\n",
            "Producto 3: Cantidad = 4, Peso Total = 8 kg, Utilidad Total = 32\n",
            "Producto 4: Cantidad = 2, Peso Total = 2 kg, Utilidad Total = 6\n",
            "\n",
            "Peso total utilizado (W_carga): 10 kg\n",
            "Utilidad total: 38\n"
          ]
        }
      ]
    },
    {
      "cell_type": "markdown",
      "source": [
        "Como podemos ver en este ejemplo ambos algoritmos , greedy y PD, nos proporcionan exactamente los mismos resultados.Pero es importante destacar que esto no debe ocurrir siempre así , ya que este tipo de algoritmos voraces no siempre proporcionan la solución óptima."
      ],
      "metadata": {
        "id": "oJwg3dGoukZh"
      }
    },
    {
      "cell_type": "markdown",
      "source": [
        "### Subejemplo-Utilidad"
      ],
      "metadata": {
        "id": "3hQllD83_9mL"
      }
    },
    {
      "cell_type": "markdown",
      "source": [
        "En este ejemplo como se puede ver el algoritmo greedy para optimzar la utilidad no nos propociona la solución más óptima."
      ],
      "metadata": {
        "id": "TtI4EQU_aj6W"
      }
    },
    {
      "cell_type": "markdown",
      "source": [
        "**Greedy**"
      ],
      "metadata": {
        "id": "9IUmEcHsvGzl"
      }
    },
    {
      "cell_type": "code",
      "source": [
        "# Lista de productos y capacidad de la mochila\n",
        "productos = [\n",
        "    {'id': 1, 'peso': 3, 'utilidad': 60, 'max_cantidad': 1},\n",
        "    {'id': 2, 'peso': 2, 'utilidad': 50, 'max_cantidad': 1},\n",
        "    {'id': 3, 'peso': 4, 'utilidad': 70, 'max_cantidad': 1},\n",
        "    {'id': 4, 'peso': 5, 'utilidad': 100, 'max_cantidad': 1},\n",
        "]\n",
        "capacidad_peso = 6  # Capacidad máxima de la mochila\n",
        "\n",
        "# Ejecutar el algoritmo Greedy\n",
        "seleccionados, peso_total, utilidad_total = mochila_greedy_utilidad(productos, capacidad_peso)\n",
        "\n",
        "\n",
        "# Mostrar resultados\n",
        "print(\"Distribución óptima de productos (Greedy por utilidad relativa):\")\n",
        "for producto_id, cantidad in seleccionados.items():\n",
        "    print(f\"Producto {producto_id}: Cantidad = {cantidad}\")\n",
        "print(f\"Peso total utilizado: {peso_total} kg\")\n",
        "print(f\"Utilidad total: {utilidad_total}\")"
      ],
      "metadata": {
        "colab": {
          "base_uri": "https://localhost:8080/"
        },
        "id": "qbcTSzEHAXTk",
        "outputId": "313c7605-9218-4412-d209-bf59cfa52f8e"
      },
      "execution_count": null,
      "outputs": [
        {
          "output_type": "stream",
          "name": "stdout",
          "text": [
            "Distribución óptima de productos (Greedy por utilidad relativa):\n",
            "Producto 2: Cantidad = 1\n",
            "Producto 1: Cantidad = 1\n",
            "Peso total utilizado: 5 kg\n",
            "Utilidad total: 110\n"
          ]
        }
      ]
    },
    {
      "cell_type": "markdown",
      "source": [
        "**PD**"
      ],
      "metadata": {
        "id": "Xa6mU-QnvJd4"
      }
    },
    {
      "cell_type": "code",
      "source": [
        "# Lista de productos con sus características\n",
        "\n",
        "productos = [\n",
        " {'id': 1, 'peso': 3, 'utilidad': 60, 'max_cantidad': 1},\n",
        "    {'id': 2, 'peso': 2, 'utilidad': 50, 'max_cantidad': 1},\n",
        "    {'id': 3, 'peso': 4, 'utilidad': 70, 'max_cantidad': 1},\n",
        "    {'id': 4, 'peso': 5, 'utilidad': 100, 'max_cantidad': 1}\n",
        "]\n",
        "\n",
        "# Pesos de los componentes\n",
        "W_transbordador = 1000  # kg\n",
        "W_combustible = 500     # kg\n",
        "\n",
        "# Capacidad máxima de peso\n",
        "capacidad_peso = 6 # kg\n",
        "\n",
        "# Representación binaria de las cantidades\n",
        "pesos = []\n",
        "utilidades = []\n",
        "indices_productos = []\n",
        "cantidades_subproductos = []\n",
        "\n",
        "for producto in productos:\n",
        "    cantidad = producto['max_cantidad']\n",
        "    k = 1\n",
        "    while cantidad > 0:\n",
        "        num = min(k, cantidad)\n",
        "        pesos.append(producto['peso'] * num)\n",
        "        utilidades.append(producto['utilidad'] * num)\n",
        "        indices_productos.append(producto['id'])\n",
        "        cantidades_subproductos.append(num)\n",
        "        cantidad -= num\n",
        "        k *= 2\n",
        "\n",
        "n = len(pesos)\n",
        "\n",
        "# Inicializar la programación dinámica\n",
        "dp = [0] * (capacidad_peso + 1)\n",
        "pre = [-1] * (capacidad_peso + 1)\n",
        "item = [-1] * (capacidad_peso + 1)\n",
        "\n",
        "# Programación dinámica con relleno del espacio restante\n",
        "print(\"Iteración\\tUtilidad Total\\tPeso Total Utilizado\\tProductos Seleccionados\")\n",
        "productos_seleccionados_iteracion = {}\n",
        "\n",
        "for i in range(n):\n",
        "    peso = pesos[i]\n",
        "    utilidad = utilidades[i]\n",
        "    producto_id = indices_productos[i]\n",
        "    cantidad = cantidades_subproductos[i]\n",
        "\n",
        "    for w in range(capacidad_peso, peso - 1, -1):\n",
        "        if dp[w - peso] + utilidad > dp[w]:\n",
        "            dp[w] = dp[w - peso] + utilidad\n",
        "            pre[w] = w - peso\n",
        "            item[w] = i\n",
        "\n",
        "    # Después de actualizar `dp`, reconstruir la solución actual\n",
        "    max_utilidad = max(dp)\n",
        "    peso_utilizado = dp.index(max_utilidad)\n",
        "    w_temp = peso_utilizado\n",
        "    productos_seleccionados_iteracion.clear()\n",
        "\n",
        "    while w_temp > 0 and item[w_temp] != -1:\n",
        "        idx = item[w_temp]\n",
        "        p_id = indices_productos[idx]\n",
        "        cantidad_utilizada = cantidades_subproductos[idx]\n",
        "        if p_id in productos_seleccionados_iteracion:\n",
        "            productos_seleccionados_iteracion[p_id] += cantidad_utilizada\n",
        "        else:\n",
        "            productos_seleccionados_iteracion[p_id] = cantidad_utilizada\n",
        "        w_temp = pre[w_temp]\n",
        "\n",
        "    # Ajustar cantidades a máximos\n",
        "    for pid in productos_seleccionados_iteracion:\n",
        "        max_cantidad = next(p['max_cantidad'] for p in productos if p['id'] == pid)\n",
        "        if productos_seleccionados_iteracion[pid] > max_cantidad:\n",
        "            productos_seleccionados_iteracion[pid] = max_cantidad\n",
        "\n",
        "    # Paso adicional: llenar el espacio restante\n",
        "    peso_total_actual = sum(\n",
        "        productos_seleccionados_iteracion.get(pid, 0) * next(p['peso'] for p in productos if p['id'] == pid)\n",
        "        for pid in productos_seleccionados_iteracion\n",
        "    )\n",
        "\n",
        "    for producto in productos:\n",
        "        while (\n",
        "            peso_total_actual + producto['peso'] <= capacidad_peso\n",
        "            and productos_seleccionados_iteracion.get(producto['id'], 0) < producto['max_cantidad']\n",
        "        ):\n",
        "            if producto['id'] in productos_seleccionados_iteracion:\n",
        "                productos_seleccionados_iteracion[producto['id']] += 1\n",
        "            else:\n",
        "                productos_seleccionados_iteracion[producto['id']] = 1\n",
        "            peso_total_actual += producto['peso']\n",
        "\n",
        "    # Mostrar la información de la iteración\n",
        "    print(f\"{i+1}\\t\\t{max_utilidad}\\t\\t{peso_utilizado} kg\\t\\t{productos_seleccionados_iteracion}\")\n",
        "\n",
        "# Reconstrucción de la solución final utilizando la última iteración\n",
        "productos_seleccionados = productos_seleccionados_iteracion.copy()\n",
        "\n",
        "# Calcular la utilidad total y peso total\n",
        "peso_total = sum(\n",
        "    productos_seleccionados[pid] * next(p['peso'] for p in productos if p['id'] == pid)\n",
        "    for pid in productos_seleccionados\n",
        ")\n",
        "utilidad_total = sum(\n",
        "    productos_seleccionados[pid] * next(p['utilidad'] for p in productos if p['id'] == pid)\n",
        "    for pid in productos_seleccionados\n",
        ")\n",
        "\n",
        "# Calcular W_total y ISR\n",
        "W_carga = peso_total\n",
        "W_total = W_transbordador + W_combustible + W_carga\n",
        "ISR_obtenido = W_total / W_carga if W_carga != 0 else float('inf')\n",
        "\n",
        "# Mostrar resultados finales\n",
        "print(\"\\nDistribución óptima de productos:\")\n",
        "for producto_id in sorted(productos_seleccionados):\n",
        "    cantidad = productos_seleccionados[producto_id]\n",
        "    producto = next(p for p in productos if p['id'] == producto_id)\n",
        "    peso_total_producto = producto['peso'] * cantidad\n",
        "    utilidad_total_producto = producto['utilidad'] * cantidad\n",
        "    print(f\"Producto {producto_id}: Cantidad = {cantidad}, Peso Total = {peso_total_producto} kg, Utilidad Total = {utilidad_total_producto}\")\n",
        "\n",
        "print(f\"\\nPeso total utilizado (W_carga): {peso_total} kg\")\n",
        "print(f\"Utilidad total: {utilidad_total}\")\n"
      ],
      "metadata": {
        "colab": {
          "base_uri": "https://localhost:8080/"
        },
        "id": "upMfLi57AxFM",
        "outputId": "78e9b90e-add9-4685-d85e-fa46f80e22b2"
      },
      "execution_count": null,
      "outputs": [
        {
          "output_type": "stream",
          "name": "stdout",
          "text": [
            "Iteración\tUtilidad Total\tPeso Total Utilizado\tProductos Seleccionados\n",
            "1\t\t60\t\t3 kg\t\t{1: 1, 2: 1}\n",
            "2\t\t110\t\t5 kg\t\t{2: 1, 1: 1}\n",
            "3\t\t120\t\t6 kg\t\t{3: 1, 2: 1}\n",
            "4\t\t120\t\t6 kg\t\t{3: 1, 2: 1}\n",
            "\n",
            "Distribución óptima de productos:\n",
            "Producto 2: Cantidad = 1, Peso Total = 2 kg, Utilidad Total = 50\n",
            "Producto 3: Cantidad = 1, Peso Total = 4 kg, Utilidad Total = 70\n",
            "\n",
            "Peso total utilizado (W_carga): 6 kg\n",
            "Utilidad total: 120\n"
          ]
        }
      ]
    },
    {
      "cell_type": "markdown",
      "source": [
        "**Cuadro Comparativo**"
      ],
      "metadata": {
        "id": "qXXIQZ-vvy1k"
      }
    },
    {
      "cell_type": "markdown",
      "source": [
        "| **Criterio**        | **Greedy**   | **Programación Dinámica** |\n",
        "|----------------------|------------------------------------|---------------------------|\n",
        "| **Productos Seleccionados** | Producto 2: 1          | Producto 2:  1  |\n",
        "|                      | Producto 1:  1          | Producto 3:  1  |\n",
        "| **Peso Total (kg)**  | 5                                | 6                         |\n",
        "| **Utilidad Total**   | 110                              | 120                       |"
      ],
      "metadata": {
        "id": "fPzp0BVvvltN"
      }
    },
    {
      "cell_type": "markdown",
      "source": [
        "Como se puede observar la solución que proporciona el greedy aún se podría maximizar más."
      ],
      "metadata": {
        "id": "rySGjqT4vvoE"
      }
    }
  ]
}